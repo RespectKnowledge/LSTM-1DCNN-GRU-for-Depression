{
  "nbformat": 4,
  "nbformat_minor": 0,
  "metadata": {
    "colab": {
      "name": "LSTMdepression.ipynb",
      "provenance": [],
      "collapsed_sections": []
    },
    "kernelspec": {
      "name": "python3",
      "display_name": "Python 3"
    },
    "accelerator": "GPU"
  },
  "cells": [
    {
      "cell_type": "code",
      "metadata": {
        "id": "LNLGOCUGHs4R",
        "outputId": "09273bec-5f49-43bd-b8ed-61e205fccf72",
        "colab": {
          "base_uri": "https://localhost:8080/"
        }
      },
      "source": [
        "from google.colab import drive\n",
        "drive.mount('/content/drive')"
      ],
      "execution_count": 1,
      "outputs": [
        {
          "output_type": "stream",
          "text": [
            "Mounted at /content/drive\n"
          ],
          "name": "stdout"
        }
      ]
    },
    {
      "cell_type": "code",
      "metadata": {
        "id": "OD2kDoTZPpIy",
        "outputId": "05c2bcf7-2619-4a01-bd5a-92507db9f683",
        "colab": {
          "base_uri": "https://localhost:8080/"
        }
      },
      "source": [
        "cd /content/drive/My\\ Drive"
      ],
      "execution_count": 2,
      "outputs": [
        {
          "output_type": "stream",
          "text": [
            "/content/drive/My Drive\n"
          ],
          "name": "stdout"
        }
      ]
    },
    {
      "cell_type": "code",
      "metadata": {
        "id": "Mf5NAT32PpLp"
      },
      "source": [
        "import numpy as np\n",
        "TrainingEC=np.load('/content/drive/My Drive/Depressiontraintestdataset/TrainingEC.npy')\n",
        "TrainingEClabel=np.load('/content/drive/My Drive/Depressiontraintestdataset/TraininglabelsEC.npy')\n",
        "testingEC=np.load('/content/drive/My Drive/Depressiontraintestdataset/TestingEC.npy')\n",
        "testingEClabel=np.load('/content/drive/My Drive/Depressiontraintestdataset/TestinglabelsEC.npy')\n",
        "\n",
        "TrainingEO=np.load('/content/drive/My Drive/Depressiontraintestdataset/TrainingEO.npy')\n",
        "TrainingEOlabel=np.load('/content/drive/My Drive/Depressiontraintestdataset/TraininglabelsEO.npy')\n",
        "testingEO=np.load('/content/drive/My Drive/Depressiontraintestdataset/TestingEO.npy')\n",
        "testingEOlabel=np.load('/content/drive/My Drive/Depressiontraintestdataset/TestinglabelsEO.npy')"
      ],
      "execution_count": 3,
      "outputs": []
    },
    {
      "cell_type": "code",
      "metadata": {
        "id": "7OJRK1u5PpRg",
        "outputId": "b071f982-e95d-4fb4-bb43-579ebba4111d",
        "colab": {
          "base_uri": "https://localhost:8080/"
        }
      },
      "source": [
        "print(TrainingEC.shape)\n",
        "print(TrainingEClabel.shape)\n",
        "print(testingEC.shape)\n",
        "print(testingEClabel.shape)"
      ],
      "execution_count": 4,
      "outputs": [
        {
          "output_type": "stream",
          "text": [
            "(1512, 500, 19)\n",
            "(1512, 2)\n",
            "(378, 500, 19)\n",
            "(378, 2)\n"
          ],
          "name": "stdout"
        }
      ]
    },
    {
      "cell_type": "code",
      "metadata": {
        "id": "Y4WQakRFP-5J"
      },
      "source": [
        "# prepare dataset for 1DCNN model\n",
        "temporal_dimension = TrainingEC.shape[1]\n",
        "num_channels = TrainingEC.shape[2]"
      ],
      "execution_count": 9,
      "outputs": []
    },
    {
      "cell_type": "code",
      "metadata": {
        "id": "BKXtk03ZsvWA",
        "outputId": "efae39ef-76a6-4db7-af52-7c6951562729",
        "colab": {
          "base_uri": "https://localhost:8080/"
        }
      },
      "source": [
        "print(temporal_dimension)\n",
        "print(num_channels)"
      ],
      "execution_count": 10,
      "outputs": [
        {
          "output_type": "stream",
          "text": [
            "500\n",
            "19\n"
          ],
          "name": "stdout"
        }
      ]
    },
    {
      "cell_type": "code",
      "metadata": {
        "id": "75dcmR7mP3W5",
        "outputId": "406d5fd6-fd42-43da-b27a-13f3564df7fd",
        "colab": {
          "base_uri": "https://localhost:8080/"
        }
      },
      "source": [
        "from __future__ import print_function\n",
        "from matplotlib import pyplot as plt\n",
        "#%matplotlib inline\n",
        "import numpy as np\n",
        "import pandas as pd\n",
        "import seaborn as sns\n",
        "#import coremltools\n",
        "from scipy import stats\n",
        "from IPython.display import display, HTML\n",
        "\n",
        "from sklearn import metrics\n",
        "from sklearn.metrics import classification_report\n",
        "from sklearn import preprocessing\n",
        "\n",
        "import keras\n",
        "from keras.models import Sequential\n",
        "from keras.layers import Dense, Dropout, Flatten, Reshape\n",
        "from keras.layers import Conv2D, MaxPooling2D\n",
        "from keras.utils import np_utils\n",
        "from keras.layers import Dense, Dropout\n",
        "from keras.layers import LSTM\n",
        "\n",
        "time_steps=500\n",
        "n_features=19\n",
        "# code for building an LSTM with 100 neurons and dropout. Runs for 50 epochs\n",
        "\n",
        "model = Sequential()\n",
        "model.add(LSTM(100, return_sequences=False, input_shape=(time_steps, n_features)))\n",
        "model.add(Dropout(0.5))\n",
        "#model.add(LSTM(100)) dramatically worse results\n",
        "model.add(Dense(2, activation='sigmoid'))\n",
        "callbacks_list = [\n",
        "    keras.callbacks.ModelCheckpoint(\n",
        "        filepath='best_model.{epoch:02d}-{val_loss:.2f}.h5',\n",
        "        monitor='val_loss', save_best_only=True),\n",
        "    keras.callbacks.EarlyStopping(monitor='acc', patience=1)\n",
        "]\n",
        "\n",
        "model.compile(loss='binary_crossentropy',\n",
        "                optimizer='adam', metrics=['acc'])\n",
        "\n",
        "BATCH_SIZE = 100\n",
        "EPOCHS = 50\n",
        "\n",
        "history = model.fit(TrainingEC,\n",
        "                      TrainingEClabel,\n",
        "                      batch_size=BATCH_SIZE,\n",
        "                      epochs=EPOCHS,\n",
        "                      callbacks=callbacks_list,\n",
        "                      validation_split=0.2,\n",
        "                      verbose=1)\n",
        "\n"
      ],
      "execution_count": 7,
      "outputs": [
        {
          "output_type": "stream",
          "text": [
            "Epoch 1/50\n",
            "13/13 [==============================] - 1s 85ms/step - loss: 0.7120 - acc: 0.5525 - val_loss: 0.6627 - val_acc: 0.6436\n",
            "Epoch 2/50\n",
            "13/13 [==============================] - 1s 57ms/step - loss: 0.6358 - acc: 0.6675 - val_loss: 0.6343 - val_acc: 0.6898\n",
            "Epoch 3/50\n",
            "13/13 [==============================] - 1s 50ms/step - loss: 0.5892 - acc: 0.7204 - val_loss: 0.6181 - val_acc: 0.7096\n",
            "Epoch 4/50\n",
            "13/13 [==============================] - 1s 52ms/step - loss: 0.5580 - acc: 0.7395 - val_loss: 0.6070 - val_acc: 0.7162\n",
            "Epoch 5/50\n",
            "13/13 [==============================] - 0s 34ms/step - loss: 0.5254 - acc: 0.7585 - val_loss: 0.5938 - val_acc: 0.7195\n",
            "Epoch 6/50\n",
            "13/13 [==============================] - 0s 35ms/step - loss: 0.5068 - acc: 0.7709 - val_loss: 0.5882 - val_acc: 0.7195\n",
            "Epoch 7/50\n",
            "13/13 [==============================] - 0s 34ms/step - loss: 0.4769 - acc: 0.7974 - val_loss: 0.5800 - val_acc: 0.7129\n",
            "Epoch 8/50\n",
            "13/13 [==============================] - 1s 48ms/step - loss: 0.4567 - acc: 0.7957 - val_loss: 0.5767 - val_acc: 0.6865\n"
          ],
          "name": "stdout"
        }
      ]
    },
    {
      "cell_type": "code",
      "metadata": {
        "id": "UiQzXRebQJIo",
        "outputId": "b0fcabea-b99b-4d4b-bebc-f86f7c418ca0",
        "colab": {
          "base_uri": "https://localhost:8080/",
          "height": 295
        }
      },
      "source": [
        "plt.figure(figsize=(6, 4))\n",
        "plt.plot(history.history['acc'], 'r', label='Accuracy of training data')\n",
        "plt.plot(history.history['val_acc'], 'b', label='Accuracy of validation data')\n",
        "plt.plot(history.history['loss'], 'r--', label='Loss of training data')\n",
        "plt.plot(history.history['val_loss'], 'b--', label='Loss of validation data')\n",
        "plt.title('Model Accuracy and Loss')\n",
        "plt.ylabel('Accuracy and Loss')\n",
        "plt.xlabel('Training Epoch')\n",
        "plt.ylim(0)\n",
        "plt.legend()\n",
        "plt.show()"
      ],
      "execution_count": null,
      "outputs": [
        {
          "output_type": "display_data",
          "data": {
            "image/png": "[encoded data removed]",
            "text/plain": [
              "<Figure size 432x288 with 1 Axes>"
            ]
          },
          "metadata": {
            "tags": [],
            "needs_background": "light"
          }
        }
      ]
    },
    {
      "cell_type": "code",
      "metadata": {
        "id": "wMbYkiEOSMWi",
        "outputId": "f6d09735-defb-46b2-efb3-81d33888f6eb",
        "colab": {
          "base_uri": "https://localhost:8080/"
        }
      },
      "source": [
        "for layer in model.layers:\n",
        "  print(layer.name) \n",
        "  print(layer.get_config(), layer.get_weights())"
      ],
      "execution_count": null,
      "outputs": [
        {
          "output_type": "stream",
          "text": [
            "lstm\n",
            "{'name': 'lstm', 'trainable': True, 'batch_input_shape': (None, 500, 19), 'dtype': 'float32', 'return_sequences': False, 'return_state': False, 'go_backwards': False, 'stateful': False, 'unroll': False, 'time_major': False, 'units': 100, 'activation': 'tanh', 'recurrent_activation': 'sigmoid', 'use_bias': True, 'kernel_initializer': {'class_name': 'GlorotUniform', 'config': {'seed': None}}, 'recurrent_initializer': {'class_name': 'Orthogonal', 'config': {'gain': 1.0, 'seed': None}}, 'bias_initializer': {'class_name': 'Zeros', 'config': {}}, 'unit_forget_bias': True, 'kernel_regularizer': None, 'recurrent_regularizer': None, 'bias_regularizer': None, 'activity_regularizer': None, 'kernel_constraint': None, 'recurrent_constraint': None, 'bias_constraint': None, 'dropout': 0.0, 'recurrent_dropout': 0.0, 'implementation': 2} [array([[-0.02912389,  0.11521989, -0.00358987, ...,  0.06633064,\n",
            "         0.10143164, -0.07586765],\n",
            "       [-0.07222737,  0.07104366, -0.11786211, ...,  0.04759108,\n",
            "         0.03341132,  0.04069198],\n",
            "       [-0.06651613,  0.00080696, -0.00749321, ..., -0.02139591,\n",
            "         0.06230671, -0.10581696],\n",
            "       ...,\n",
            "       [-0.01088191, -0.0319897 ,  0.03180312, ..., -0.00241685,\n",
            "        -0.00328651,  0.02078373],\n",
            "       [ 0.05167128, -0.02216322, -0.12672411, ...,  0.04900404,\n",
            "         0.06137138, -0.03009941],\n",
            "       [ 0.06766316,  0.0764289 ,  0.07259111, ...,  0.12681727,\n",
            "         0.06991743, -0.03384757]], dtype=float32), array([[ 0.03316583,  0.03781288, -0.11348452, ...,  0.03062432,\n",
            "         0.02391453,  0.02445403],\n",
            "       [-0.05940048, -0.02743233, -0.0246198 , ..., -0.02788588,\n",
            "         0.04300227,  0.03437876],\n",
            "       [-0.01999721,  0.12229732,  0.0418385 , ...,  0.04007529,\n",
            "        -0.04375904, -0.04664841],\n",
            "       ...,\n",
            "       [-0.02367709, -0.04669567, -0.06142842, ..., -0.01330296,\n",
            "        -0.04956911,  0.02501875],\n",
            "       [-0.01740074, -0.01644487,  0.08295111, ..., -0.03966181,\n",
            "        -0.04294541,  0.0103583 ],\n",
            "       [-0.04034315,  0.02467357, -0.02270143, ...,  0.1038227 ,\n",
            "         0.04160905,  0.01529214]], dtype=float32), array([-1.94850191e-02, -2.37545790e-03, -2.10883226e-02, -2.80474243e-03,\n",
            "        2.08418015e-02, -6.24505989e-03, -3.87014821e-03,  1.57451332e-02,\n",
            "       -1.58497822e-02, -2.40800530e-02, -5.07649314e-03,  7.91483372e-03,\n",
            "        7.09268264e-04,  7.15669896e-03, -1.59079097e-02,  1.44084299e-03,\n",
            "       -1.12178177e-02, -8.97395983e-03, -1.39226671e-03,  1.54393138e-02,\n",
            "       -2.42226478e-02,  7.70412199e-03, -1.55632263e-02,  2.56466661e-02,\n",
            "        9.94614209e-04, -1.03237499e-02, -1.06683131e-02, -2.16473062e-02,\n",
            "       -8.67164787e-03,  1.49429673e-02,  2.33357633e-03, -1.93910263e-02,\n",
            "        1.29611483e-02, -8.00700672e-03, -6.29708217e-03, -1.74270067e-02,\n",
            "       -2.56415969e-03, -1.26333972e-02, -4.03680000e-03, -9.95611772e-03,\n",
            "        7.21777463e-03,  5.14038093e-03,  3.60167883e-02, -8.69879872e-03,\n",
            "       -2.52548652e-03, -1.82794053e-02, -1.04461273e-04, -2.57495008e-02,\n",
            "        9.73273721e-03, -5.21696464e-04, -1.01433769e-02,  1.24336975e-02,\n",
            "        1.90082309e-03,  4.27347654e-03, -4.52647265e-03,  3.00442975e-04,\n",
            "        2.52300967e-02, -1.78127009e-02,  1.15846908e-02, -6.16418850e-03,\n",
            "        1.17222369e-02, -6.89276354e-03, -1.26139112e-02,  9.16790869e-03,\n",
            "        2.26132921e-03, -6.48147287e-03, -1.73049811e-02,  9.66332573e-03,\n",
            "       -6.02108380e-03, -2.59564980e-03, -7.13742292e-03,  6.78227516e-03,\n",
            "        1.07779223e-02,  1.79886017e-02, -1.15231629e-02, -8.96586198e-03,\n",
            "        1.26309739e-02, -2.76077865e-03,  4.30229399e-03,  3.27037676e-04,\n",
            "        1.40762469e-02,  1.36835431e-03,  1.11907674e-02,  2.72083981e-03,\n",
            "       -2.50290353e-02,  3.75372544e-03, -1.71507115e-03,  3.52883823e-02,\n",
            "       -6.01261994e-03, -1.16763180e-02, -1.64514761e-02,  1.75399950e-03,\n",
            "       -8.95515457e-03, -1.46493567e-02,  2.08171923e-02, -8.61971918e-03,\n",
            "        7.60223344e-03,  2.00400478e-03,  1.66582107e-03, -1.97637975e-02,\n",
            "        9.85579312e-01,  1.00187540e+00,  9.96705651e-01,  1.01080358e+00,\n",
            "        1.01610160e+00,  9.88917589e-01,  1.00385177e+00,  1.00803936e+00,\n",
            "        9.91848588e-01,  9.87251639e-01,  9.73560095e-01,  1.00876510e+00,\n",
            "        1.01483357e+00,  1.01337945e+00,  1.01726055e+00,  9.96114552e-01,\n",
            "        9.97112095e-01,  1.00712466e+00,  9.89849806e-01,  1.00516260e+00,\n",
            "        9.96165872e-01,  1.01169217e+00,  1.00988173e+00,  1.01048684e+00,\n",
            "        9.99505639e-01,  1.00624537e+00,  9.92098510e-01,  9.77099478e-01,\n",
            "        1.01637161e+00,  1.03462434e+00,  1.00481141e+00,  1.00035334e+00,\n",
            "        1.00733483e+00,  9.88590837e-01,  9.90560174e-01,  9.81277645e-01,\n",
            "        1.01655912e+00,  9.88734782e-01,  9.97854888e-01,  9.90567744e-01,\n",
            "        9.98416901e-01,  1.00055420e+00,  1.00084043e+00,  9.90260482e-01,\n",
            "        1.00337648e+00,  1.00021255e+00,  9.96462047e-01,  9.75783408e-01,\n",
            "        9.93429005e-01,  9.82083559e-01,  9.97146726e-01,  1.00111067e+00,\n",
            "        9.91980314e-01,  1.01490676e+00,  9.97500479e-01,  9.99015331e-01,\n",
            "        1.02449751e+00,  9.81514812e-01,  9.93621647e-01,  9.90885675e-01,\n",
            "        1.00170374e+00,  1.01430261e+00,  1.00400102e+00,  9.98105645e-01,\n",
            "        1.00624633e+00,  1.00160599e+00,  1.01951718e+00,  1.02145112e+00,\n",
            "        9.94624913e-01,  1.02020502e+00,  1.00826669e+00,  9.85929132e-01,\n",
            "        9.95658457e-01,  9.95864630e-01,  1.00472522e+00,  1.01474452e+00,\n",
            "        9.92202103e-01,  1.00573194e+00,  1.01348281e+00,  9.78022635e-01,\n",
            "        9.97052968e-01,  9.94830966e-01,  9.94164348e-01,  1.02314818e+00,\n",
            "        1.00131333e+00,  9.98085380e-01,  1.01000261e+00,  1.00240743e+00,\n",
            "        9.99613583e-01,  1.02730942e+00,  9.81929958e-01,  1.00292897e+00,\n",
            "        1.01250267e+00,  9.89365995e-01,  1.00788367e+00,  1.01871157e+00,\n",
            "        9.92760181e-01,  1.00183868e+00,  9.96942818e-01,  9.99794304e-01,\n",
            "        1.61466785e-02, -2.68206019e-02,  1.57268886e-02, -2.96900775e-02,\n",
            "       -3.37058455e-02, -9.59917437e-03, -2.52161976e-02, -2.55299248e-02,\n",
            "       -1.42234368e-02,  1.59158632e-02, -2.11032685e-02, -2.71794610e-02,\n",
            "       -2.81343516e-02,  1.71079598e-02, -2.78478693e-02,  2.15815119e-02,\n",
            "       -2.80028693e-02,  1.41403014e-02,  2.49415841e-02, -3.23307402e-02,\n",
            "        2.55430732e-02,  3.47830690e-02, -3.21759060e-02,  3.11678629e-02,\n",
            "       -1.28900597e-03,  3.07796709e-02,  2.16504373e-02,  1.49340602e-02,\n",
            "        2.71955393e-02, -3.58151384e-02,  3.35763097e-02, -1.93470716e-02,\n",
            "       -3.23133990e-02,  1.13545852e-02,  2.89514307e-02,  2.01908667e-02,\n",
            "        2.38602478e-02, -1.66178215e-02, -2.55303811e-02, -1.13815116e-02,\n",
            "        3.43641564e-02, -1.30971633e-02, -3.46189216e-02,  8.01846664e-03,\n",
            "        1.77177135e-02, -2.96050161e-02, -1.86350644e-02, -4.40160977e-03,\n",
            "       -1.05282925e-02, -2.75579095e-02,  1.74582715e-03,  2.43725199e-02,\n",
            "       -2.51074862e-02, -2.65562739e-02, -3.53781022e-02,  8.32903944e-03,\n",
            "        3.80471908e-02, -1.40810236e-02, -1.54377995e-02,  2.06112079e-02,\n",
            "       -1.99587159e-02, -1.78738199e-02, -2.48192549e-02, -2.19603777e-02,\n",
            "       -2.61283666e-02,  2.08728351e-02,  2.39350181e-02,  7.11241504e-03,\n",
            "       -3.19941826e-02, -2.88368426e-02, -3.63728032e-02,  2.90616155e-02,\n",
            "        2.02841442e-02, -2.85846107e-02,  7.59691233e-03,  3.16601880e-02,\n",
            "       -1.98127758e-02, -2.94244532e-02, -3.44231389e-02, -3.05330995e-02,\n",
            "       -4.85214684e-03,  2.93843616e-02, -2.11238638e-02, -2.72756815e-02,\n",
            "       -2.65307780e-02, -1.16124116e-02,  8.96231737e-03,  1.28463795e-02,\n",
            "       -8.49640556e-03, -3.15124653e-02, -1.78662427e-02, -1.98790487e-02,\n",
            "       -7.00939307e-03,  5.43526234e-03,  2.83450391e-02, -3.64378691e-02,\n",
            "       -2.98899058e-02, -8.04613624e-03,  2.64814273e-02, -1.09746149e-02,\n",
            "       -2.62805317e-02, -1.46677252e-02, -3.03288270e-02,  2.33041542e-03,\n",
            "        4.17042244e-03, -2.11737119e-02, -2.72020083e-02,  2.17554178e-02,\n",
            "       -1.33733088e-02, -1.04511613e-02, -1.28842117e-02,  1.69930998e-02,\n",
            "       -1.21052423e-02,  1.87270716e-02,  1.39596658e-02, -1.15460893e-02,\n",
            "       -5.44620538e-03, -1.90315321e-02, -1.21828848e-02,  1.81435235e-02,\n",
            "        7.01931305e-03,  1.68356001e-02,  4.81348624e-03,  3.26823705e-04,\n",
            "        1.10168885e-02, -1.00932112e-02,  2.43276916e-03, -1.04289753e-02,\n",
            "        3.00031118e-02,  2.88701598e-02,  3.34180845e-03, -2.08347067e-02,\n",
            "        2.15803590e-02, -2.10791752e-02, -2.03936808e-02, -1.99352968e-02,\n",
            "       -1.10933818e-02, -1.91159453e-02, -1.46029936e-02, -1.42697366e-02,\n",
            "        7.42269168e-03,  3.61541915e-03,  9.78977513e-03, -2.54838169e-02,\n",
            "        1.57241081e-03, -1.04856223e-03, -2.25451645e-02, -2.83608455e-02,\n",
            "       -2.50198785e-03, -7.01994635e-03,  3.05403094e-03, -1.95364039e-02,\n",
            "        9.42385581e-04,  4.49757604e-03,  1.18043013e-02,  5.79211395e-03,\n",
            "        3.87829393e-02, -3.57591105e-03,  9.64642037e-03,  3.51444772e-03,\n",
            "        1.30028755e-04,  8.42095725e-03, -9.61193629e-03,  4.97714058e-03,\n",
            "       -5.89030609e-03, -1.39871461e-03, -7.38098426e-03,  1.37683395e-02,\n",
            "       -4.71903011e-03,  2.00683605e-02,  3.25080007e-03, -1.50134340e-02,\n",
            "       -1.40047707e-02,  1.68928299e-02, -3.70865478e-03, -9.04171076e-03,\n",
            "       -1.66188297e-03,  3.69761925e-04,  1.59111957e-03, -1.15404781e-02,\n",
            "        5.58443787e-03, -1.98253077e-02,  1.37141906e-04,  1.78093184e-02,\n",
            "       -2.45418884e-02, -2.00808365e-02, -1.29583152e-02,  5.32421237e-03,\n",
            "       -1.49497502e-02,  2.19943393e-02, -1.03723127e-02,  3.12077301e-03,\n",
            "       -1.30716083e-03, -4.76430077e-03,  1.67173184e-02,  4.95019695e-03,\n",
            "       -1.61000863e-02, -2.13449966e-04,  5.60312951e-03, -1.40834199e-02],\n",
            "      dtype=float32)]\n",
            "dropout\n",
            "{'name': 'dropout', 'trainable': True, 'dtype': 'float32', 'rate': 0.5, 'noise_shape': None, 'seed': None} []\n",
            "dense\n",
            "{'name': 'dense', 'trainable': True, 'dtype': 'float32', 'units': 2, 'activation': 'sigmoid', 'use_bias': True, 'kernel_initializer': {'class_name': 'GlorotUniform', 'config': {'seed': None}}, 'bias_initializer': {'class_name': 'Zeros', 'config': {}}, 'kernel_regularizer': None, 'bias_regularizer': None, 'activity_regularizer': None, 'kernel_constraint': None, 'bias_constraint': None} [array([[-1.34561956e-01, -1.86209738e-01],\n",
            "       [-1.04820281e-01,  1.88960612e-01],\n",
            "       [-1.47517264e-01, -2.26706177e-01],\n",
            "       [-4.00615623e-03,  1.92937687e-01],\n",
            "       [-2.00443879e-01,  2.32020140e-01],\n",
            "       [-9.36843306e-02, -3.54744457e-02],\n",
            "       [ 2.16718204e-02,  1.96237698e-01],\n",
            "       [-8.71546268e-02,  8.38623419e-02],\n",
            "       [ 1.42597463e-02,  1.22553699e-01],\n",
            "       [-2.59443596e-02, -1.13699175e-01],\n",
            "       [ 1.00280598e-01,  2.07890928e-01],\n",
            "       [-7.13128597e-02,  4.22108434e-02],\n",
            "       [-4.96204346e-02,  2.29802266e-01],\n",
            "       [ 2.96582934e-02, -1.47988737e-01],\n",
            "       [-3.49471276e-03,  9.14980322e-02],\n",
            "       [ 1.02494635e-01, -1.21610604e-01],\n",
            "       [-1.68992743e-01, -5.56815676e-02],\n",
            "       [-7.57050961e-02, -1.41202196e-01],\n",
            "       [ 1.73724145e-01,  1.28589999e-02],\n",
            "       [-9.07308534e-02,  4.86295857e-02],\n",
            "       [ 2.44791552e-01, -1.94095224e-01],\n",
            "       [ 8.71954858e-02,  5.72490157e-04],\n",
            "       [-2.36954466e-01,  2.04704389e-01],\n",
            "       [ 6.94141984e-02, -2.43086278e-01],\n",
            "       [ 1.00867055e-01, -9.15266871e-02],\n",
            "       [ 2.13568628e-01,  4.72625159e-02],\n",
            "       [ 1.76615015e-01,  6.28367215e-02],\n",
            "       [ 2.23751143e-01,  1.67236269e-01],\n",
            "       [ 1.58111319e-01, -1.46225676e-01],\n",
            "       [-1.86957419e-01,  1.40837252e-01],\n",
            "       [-8.01623538e-02, -1.77771952e-02],\n",
            "       [-5.73572516e-02,  3.68181802e-02],\n",
            "       [-3.05441786e-02, -7.85747990e-02],\n",
            "       [ 9.82268453e-02, -4.07131761e-03],\n",
            "       [ 1.25299975e-01, -1.00714631e-01],\n",
            "       [ 2.18041837e-01,  1.42257243e-01],\n",
            "       [ 1.45936236e-01,  2.46281009e-02],\n",
            "       [ 1.08857036e-01,  2.35020831e-01],\n",
            "       [-6.31965101e-02,  1.90350473e-01],\n",
            "       [ 6.92377537e-02,  2.08339572e-01],\n",
            "       [ 3.98641154e-02, -1.10475123e-01],\n",
            "       [-2.33659297e-01,  7.76891410e-02],\n",
            "       [ 7.80134415e-03,  8.05962365e-03],\n",
            "       [ 1.55517370e-01,  1.61916062e-01],\n",
            "       [ 1.46567851e-01, -1.15153685e-01],\n",
            "       [-1.86038509e-01, -1.45004153e-01],\n",
            "       [ 8.20152089e-02,  1.16157643e-01],\n",
            "       [-1.84439480e-01, -1.51061758e-01],\n",
            "       [-1.45419417e-02,  1.11492254e-01],\n",
            "       [-1.87962934e-01,  4.71718796e-02],\n",
            "       [-1.84196904e-01, -5.84796593e-02],\n",
            "       [ 1.66093603e-01, -1.30116224e-01],\n",
            "       [ 2.67670508e-02,  1.98202133e-01],\n",
            "       [-4.93820459e-02,  4.23310809e-02],\n",
            "       [ 4.36326787e-02,  1.40755877e-01],\n",
            "       [ 5.37726916e-02, -1.96854528e-02],\n",
            "       [ 3.62155493e-04, -4.50503118e-02],\n",
            "       [ 6.57743514e-02,  1.34872153e-01],\n",
            "       [-1.23841830e-01,  1.00481622e-02],\n",
            "       [-3.98887284e-02, -1.60215318e-01],\n",
            "       [-1.32830366e-01,  6.02807675e-04],\n",
            "       [-1.37451112e-01,  5.46920858e-02],\n",
            "       [-1.26537114e-01,  1.19151779e-01],\n",
            "       [-6.29211515e-02,  1.36928752e-01],\n",
            "       [-1.18659475e-04,  1.61398783e-01],\n",
            "       [ 2.26115808e-01, -2.17211589e-01],\n",
            "       [ 8.01835135e-02, -1.95097905e-02],\n",
            "       [ 4.24396293e-03, -2.97153159e-03],\n",
            "       [-1.79790840e-01,  8.80805105e-02],\n",
            "       [-3.98802869e-02,  2.04303548e-01],\n",
            "       [-1.08102515e-01,  1.09348685e-01],\n",
            "       [ 9.11637172e-02,  9.63986889e-02],\n",
            "       [ 1.21005334e-01, -2.19299197e-01],\n",
            "       [-8.81182328e-02,  6.94416463e-02],\n",
            "       [-1.59390002e-01, -8.24299753e-02],\n",
            "       [ 2.02192798e-01, -3.73842493e-02],\n",
            "       [ 5.02845272e-03,  1.21483631e-01],\n",
            "       [-1.96015596e-01,  9.08480305e-03],\n",
            "       [-4.72090989e-02,  2.04943746e-01],\n",
            "       [ 7.14534670e-02,  2.02622414e-01],\n",
            "       [ 9.85710789e-03, -1.05808243e-01],\n",
            "       [-1.06476195e-01, -1.86986625e-01],\n",
            "       [ 1.83198936e-02,  1.85749978e-01],\n",
            "       [-2.33430862e-01, -3.27614620e-02],\n",
            "       [-1.69336319e-01, -7.37339929e-02],\n",
            "       [-2.25807399e-01, -1.36220053e-01],\n",
            "       [ 9.78402495e-02, -6.54953048e-02],\n",
            "       [ 1.80184841e-01,  3.96844931e-02],\n",
            "       [-6.37785867e-02,  2.16146976e-01],\n",
            "       [-1.99276760e-01, -1.23529218e-01],\n",
            "       [-2.32645407e-01,  2.33855277e-01],\n",
            "       [-1.13617003e-01,  5.58948368e-02],\n",
            "       [-2.15002000e-01,  8.75289366e-02],\n",
            "       [-1.33446738e-01, -6.01384081e-02],\n",
            "       [ 2.34256864e-01, -2.10494608e-01],\n",
            "       [-7.69406557e-02,  2.51756981e-02],\n",
            "       [-2.29400635e-01,  7.61724040e-02],\n",
            "       [-1.34075582e-01,  1.02842882e-01],\n",
            "       [ 1.37494147e-01, -1.26983285e-01],\n",
            "       [ 1.28024578e-01,  8.54374245e-02]], dtype=float32), array([ 0.01003784, -0.00664429], dtype=float32)]\n"
          ],
          "name": "stdout"
        }
      ]
    },
    {
      "cell_type": "code",
      "metadata": {
        "id": "PXVmipL3RclT",
        "outputId": "4c41b845-49ff-4ebb-9892-afae4da93274",
        "colab": {
          "base_uri": "https://localhost:8080/"
        }
      },
      "source": [
        "# model configuration\n",
        "for layer in model.layers:\n",
        "  print(layer.name) \n",
        "  #print(layer.get_config(), layer.get_weights())\n",
        "\n",
        "\n",
        "#print(layer.get_config())\n",
        "weights = model.layers[0].get_weights()[0]\n",
        "biases = model.layers[0].get_weights()[1]\n",
        "print(weights.shape)\n",
        "print(biases.shape)\n",
        "\n",
        "weights = model.layers[2].get_weights()[0]\n",
        "biases = model.layers[2].get_weights()[1]\n",
        "print(weights.shape)\n",
        "print(biases.shape)\n"
      ],
      "execution_count": null,
      "outputs": [
        {
          "output_type": "stream",
          "text": [
            "lstm\n",
            "dropout\n",
            "dense\n",
            "(19, 400)\n",
            "(100, 400)\n",
            "(100, 2)\n",
            "(2,)\n"
          ],
          "name": "stdout"
        }
      ]
    },
    {
      "cell_type": "code",
      "metadata": {
        "id": "mLczOeDWQTfy",
        "outputId": "cfb5d746-d4b3-48b1-94f8-4a8be64ebb60",
        "colab": {
          "base_uri": "https://localhost:8080/"
        }
      },
      "source": [
        "print(testingEC.shape)\n",
        "print(testingEClabel.shape)\n",
        "# accuracy on test data\n",
        "#y_testEC= np_utils.to_categorical(testingEC,2)\n",
        "\n",
        "score = model.evaluate(testingEC, testingEClabel, verbose=1)\n",
        "\n",
        "print('\\nAccuracy on test data: %0.2f' % score[1])\n",
        "print('\\nLoss on test data: %0.2f' % score[0])"
      ],
      "execution_count": null,
      "outputs": [
        {
          "output_type": "stream",
          "text": [
            "(378, 500, 19)\n",
            "(378, 2)\n",
            "12/12 [==============================] - 0s 14ms/step - loss: 0.5622 - acc: 0.7169\n",
            "\n",
            "Accuracy on test data: 0.72\n",
            "\n",
            "Loss on test data: 0.56\n"
          ],
          "name": "stdout"
        }
      ]
    },
    {
      "cell_type": "code",
      "metadata": {
        "id": "M_IGCnV0QhDZ",
        "outputId": "0e3940a9-76b9-4553-a326-75442feff887",
        "colab": {
          "base_uri": "https://localhost:8080/",
          "height": 338
        }
      },
      "source": [
        "LABELS = ['Control','MDD']\n",
        "def show_confusion_matrix(validations, predictions):\n",
        "\n",
        "    matrix = metrics.confusion_matrix(validations, predictions)\n",
        "    plt.figure(figsize=(2, 2))\n",
        "    sns.heatmap(matrix,\n",
        "                cmap='coolwarm',\n",
        "                linecolor='white',\n",
        "                linewidths=1,\n",
        "                xticklabels=LABELS,\n",
        "                yticklabels=LABELS,\n",
        "                annot=True,\n",
        "                fmt='d')\n",
        "    plt.title('Confusion Matrix')\n",
        "    plt.ylabel('True Label')\n",
        "    plt.xlabel('Predicted Label')\n",
        "    plt.show()\n",
        "\n",
        "\n",
        "y_pred_test = model.predict(testingEC)\n",
        "# Take the class with the highest probability from the test predictions\n",
        "max_y_pred_test = np.argmax(y_pred_test, axis=1)\n",
        "max_y_test = np.argmax(testingEClabel, axis=1)\n",
        "\n",
        "show_confusion_matrix(max_y_test, max_y_pred_test)\n",
        "\n",
        "print(classification_report(max_y_test, max_y_pred_test))"
      ],
      "execution_count": null,
      "outputs": [
        {
          "output_type": "display_data",
          "data": {
            "image/png": "[encoded data removed]",
            "text/plain": [
              "<Figure size 144x144 with 2 Axes>"
            ]
          },
          "metadata": {
            "tags": [],
            "needs_background": "light"
          }
        },
        {
          "output_type": "stream",
          "text": [
            "              precision    recall  f1-score   support\n",
            "\n",
            "           0       0.68      0.88      0.77       198\n",
            "           1       0.81      0.53      0.64       180\n",
            "\n",
            "    accuracy                           0.72       378\n",
            "   macro avg       0.74      0.71      0.70       378\n",
            "weighted avg       0.74      0.72      0.71       378\n",
            "\n"
          ],
          "name": "stdout"
        }
      ]
    },
    {
      "cell_type": "code",
      "metadata": {
        "id": "wrMke9UutTuR"
      },
      "source": [
        "import keras\n",
        "from keras.models import Sequential\n",
        "from keras.layers import Dense, Dropout, Flatten, Reshape, Activation\n",
        "from keras.layers import Conv2D, MaxPooling2D\n",
        "from keras.utils import np_utils\n",
        "from keras.models import Sequential\n",
        "from keras.layers import Dense, Dropout\n",
        "from keras.layers import Embedding\n",
        "from keras.layers import LSTM\n",
        "from sklearn.preprocessing import MinMaxScaler"
      ],
      "execution_count": null,
      "outputs": []
    },
    {
      "cell_type": "code",
      "metadata": {
        "id": "dHeQ5mdvtT_o",
        "outputId": "2e4eece3-a2d5-4062-f579-cfb16fc63679",
        "colab": {
          "base_uri": "https://localhost:8080/"
        }
      },
      "source": [
        "# Multipule layer LSTM Model\n",
        "temporal_dimension = TrainingEC.shape[1]\n",
        "num_channels = TrainingEC.shape[2]\n",
        "num_classes = 2\n",
        "model2= Sequential()\n",
        "#model2= Sequential()\n",
        "# First LSTM layer with Dropout regularisation\n",
        "#model2.add(LSTM(units=50, return_sequences=True, input_shape=(train_X.shape[1],train_X.shape[2])))\n",
        "#model2.add(LSTM(50,return_sequences=True, input_dim=19, input_length=256))\n",
        "model2.add(LSTM(64,return_sequences=True, input_shape=(temporal_dimension,num_channels)))\n",
        "model2.add(Dropout(0.2))\n",
        "# Second LSTM layer\n",
        "model2.add(LSTM(units=64, return_sequences=True))\n",
        "model2.add(Dropout(0.1))\n",
        "# Third LSTM layer\n",
        "model2.add(LSTM(units=50, return_sequences=True))\n",
        "model2.add(Dropout(0.2))\n",
        "#model2.add(LSTM(units=64, return_sequences=True))\n",
        "#model2.add(Dropout(0.2))\n",
        "## Fourth LSTM layer\n",
        "model2.add(LSTM(units=64))\n",
        "#model2.add(Dropout(0.1))\n",
        "# The output layer\n",
        "model2.add(Dense(units=2))\n",
        "model2.add(Activation('sigmoid'))\n",
        "model2.summary()"
      ],
      "execution_count": null,
      "outputs": [
        {
          "output_type": "stream",
          "text": [
            "Model: \"sequential_5\"\n",
            "_________________________________________________________________\n",
            "Layer (type)                 Output Shape              Param #   \n",
            "=================================================================\n",
            "lstm_12 (LSTM)               (None, 500, 64)           21504     \n",
            "_________________________________________________________________\n",
            "dropout_9 (Dropout)          (None, 500, 64)           0         \n",
            "_________________________________________________________________\n",
            "lstm_13 (LSTM)               (None, 500, 64)           33024     \n",
            "_________________________________________________________________\n",
            "dropout_10 (Dropout)         (None, 500, 64)           0         \n",
            "_________________________________________________________________\n",
            "lstm_14 (LSTM)               (None, 500, 50)           23000     \n",
            "_________________________________________________________________\n",
            "dropout_11 (Dropout)         (None, 500, 50)           0         \n",
            "_________________________________________________________________\n",
            "lstm_15 (LSTM)               (None, 64)                29440     \n",
            "_________________________________________________________________\n",
            "dense_3 (Dense)              (None, 2)                 130       \n",
            "_________________________________________________________________\n",
            "activation_1 (Activation)    (None, 2)                 0         \n",
            "=================================================================\n",
            "Total params: 107,098\n",
            "Trainable params: 107,098\n",
            "Non-trainable params: 0\n",
            "_________________________________________________________________\n"
          ],
          "name": "stdout"
        }
      ]
    },
    {
      "cell_type": "code",
      "metadata": {
        "id": "ZhuLXNoSvdDy",
        "outputId": "8ffff595-0635-4f8c-c09b-7be125cef4ff",
        "colab": {
          "base_uri": "https://localhost:8080/"
        }
      },
      "source": [
        "callbacks_list = [\n",
        "    keras.callbacks.ModelCheckpoint(\n",
        "        filepath='best_modellstmmulti.{epoch:02d}-{val_loss:.2f}.h5',\n",
        "        monitor='val_loss', save_best_only=True),\n",
        "    keras.callbacks.EarlyStopping(monitor='acc', patience=1)\n",
        "]\n",
        "\n",
        "model2.compile(loss='binary_crossentropy',\n",
        "                optimizer='adam', metrics=['acc'])\n",
        "\n",
        "BATCH_SIZE = 100\n",
        "EPOCHS = 50\n",
        "\n",
        "history = model2.fit(TrainingEC,\n",
        "                      TrainingEClabel,\n",
        "                      batch_size=BATCH_SIZE,\n",
        "                      epochs=EPOCHS,\n",
        "                      callbacks=callbacks_list,\n",
        "                      validation_split=0.1,\n",
        "                      verbose=1)\n"
      ],
      "execution_count": null,
      "outputs": [
        {
          "output_type": "stream",
          "text": [
            "Epoch 1/50\n",
            "14/14 [==============================] - 2s 163ms/step - loss: 0.6293 - acc: 0.6654 - val_loss: 0.4991 - val_acc: 0.7829\n",
            "Epoch 2/50\n",
            "14/14 [==============================] - 1s 82ms/step - loss: 0.5386 - acc: 0.7419 - val_loss: 0.4776 - val_acc: 0.8026\n",
            "Epoch 3/50\n",
            "14/14 [==============================] - 1s 81ms/step - loss: 0.4685 - acc: 0.7956 - val_loss: 0.4552 - val_acc: 0.8158\n",
            "Epoch 4/50\n",
            "14/14 [==============================] - 1s 82ms/step - loss: 0.3969 - acc: 0.8412 - val_loss: 0.4250 - val_acc: 0.8158\n",
            "Epoch 5/50\n",
            "14/14 [==============================] - 1s 78ms/step - loss: 0.3403 - acc: 0.8735 - val_loss: 0.4345 - val_acc: 0.8158\n",
            "Epoch 6/50\n",
            "14/14 [==============================] - 1s 79ms/step - loss: 0.3484 - acc: 0.8721 - val_loss: 0.5063 - val_acc: 0.7566\n"
          ],
          "name": "stdout"
        }
      ]
    },
    {
      "cell_type": "code",
      "metadata": {
        "id": "0cz3FNoEvmAA",
        "outputId": "c4b27659-ffd6-4fc4-a086-03d5c4168d9b",
        "colab": {
          "base_uri": "https://localhost:8080/",
          "height": 295
        }
      },
      "source": [
        "plt.figure(figsize=(6, 4))\n",
        "plt.plot(history.history['acc'], 'r', label='Accuracy of training data')\n",
        "plt.plot(history.history['val_acc'], 'b', label='Accuracy of validation data')\n",
        "plt.plot(history.history['loss'], 'r--', label='Loss of training data')\n",
        "plt.plot(history.history['val_loss'], 'b--', label='Loss of validation data')\n",
        "plt.title('Model Accuracy and Loss')\n",
        "plt.ylabel('Accuracy and Loss')\n",
        "plt.xlabel('Training Epoch')\n",
        "plt.ylim(0)\n",
        "plt.legend()\n",
        "plt.show()"
      ],
      "execution_count": null,
      "outputs": [
        {
          "output_type": "display_data",
          "data": {
            "image/png": "[encoded data removed]",
            "text/plain": [
              "<Figure size 432x288 with 1 Axes>"
            ]
          },
          "metadata": {
            "tags": [],
            "needs_background": "light"
          }
        }
      ]
    },
    {
      "cell_type": "code",
      "metadata": {
        "id": "NPKjBc0lwJGh",
        "outputId": "5f64eee5-d226-43fa-8f3d-8a7d569b4962",
        "colab": {
          "base_uri": "https://localhost:8080/"
        }
      },
      "source": [
        "#%accuracy on test data\n",
        "#y_testEO = np_utils.to_categorical(y_testEO,2)\n",
        "\n",
        "score = model2.evaluate(testingEC, testingEClabel, verbose=1)\n",
        "\n",
        "print('\\nAccuracy on test data: %0.2f' % score[1])\n",
        "print('\\nLoss on test data: %0.2f' % score[0])"
      ],
      "execution_count": null,
      "outputs": [
        {
          "output_type": "stream",
          "text": [
            "12/12 [==============================] - 0s 35ms/step - loss: 0.5109 - acc: 0.7460\n",
            "\n",
            "Accuracy on test data: 0.75\n",
            "\n",
            "Loss on test data: 0.51\n"
          ],
          "name": "stdout"
        }
      ]
    },
    {
      "cell_type": "code",
      "metadata": {
        "id": "efp7iTfHwaEo",
        "outputId": "8083fb68-7537-4bfc-9d55-b66a6d62e183",
        "colab": {
          "base_uri": "https://localhost:8080/",
          "height": 338
        }
      },
      "source": [
        "LABELS = ['Control','MDD']\n",
        "def show_confusion_matrix(validations, predictions):\n",
        "\n",
        "    matrix = metrics.confusion_matrix(validations, predictions)\n",
        "    plt.figure(figsize=(2, 2))\n",
        "    sns.heatmap(matrix,\n",
        "                cmap='coolwarm',\n",
        "                linecolor='white',\n",
        "                linewidths=1,\n",
        "                xticklabels=LABELS,\n",
        "                yticklabels=LABELS,\n",
        "                annot=True,\n",
        "                fmt='d')\n",
        "    plt.title('Confusion Matrix')\n",
        "    plt.ylabel('True Label')\n",
        "    plt.xlabel('Predicted Label')\n",
        "    plt.show()\n",
        "\n",
        "\n",
        "y_pred_test = model2.predict(testingEC)\n",
        "# Take the class with the highest probability from the test predictions\n",
        "max_y_pred_test = np.argmax(y_pred_test, axis=1)\n",
        "max_y_test = np.argmax(testingEClabel, axis=1)\n",
        "\n",
        "show_confusion_matrix(max_y_test, max_y_pred_test)\n",
        "\n",
        "print(classification_report(max_y_test, max_y_pred_test))"
      ],
      "execution_count": null,
      "outputs": [
        {
          "output_type": "display_data",
          "data": {
            "image/png": "[encoded data removed]",
            "text/plain": [
              "<Figure size 144x144 with 2 Axes>"
            ]
          },
          "metadata": {
            "tags": [],
            "needs_background": "light"
          }
        },
        {
          "output_type": "stream",
          "text": [
            "              precision    recall  f1-score   support\n",
            "\n",
            "           0       0.83      0.65      0.73       198\n",
            "           1       0.69      0.86      0.76       180\n",
            "\n",
            "    accuracy                           0.75       378\n",
            "   macro avg       0.76      0.75      0.74       378\n",
            "weighted avg       0.76      0.75      0.74       378\n",
            "\n"
          ],
          "name": "stdout"
        }
      ]
    },
    {
      "cell_type": "code",
      "metadata": {
        "id": "GDvlCrokwrLp"
      },
      "source": [
        "# Bidrectional LSTM model"
      ],
      "execution_count": null,
      "outputs": []
    },
    {
      "cell_type": "code",
      "metadata": {
        "id": "6AQoyD2mwrVR",
        "outputId": "3f614cb2-4196-4bef-c1d3-6a36acb36b79",
        "colab": {
          "base_uri": "https://localhost:8080/"
        }
      },
      "source": [
        "from numpy import concatenate\n",
        "from matplotlib import pyplot\n",
        "from pandas import read_csv\n",
        "from pandas import DataFrame\n",
        "from pandas import concat\n",
        "from sklearn.preprocessing import MinMaxScaler\n",
        "from sklearn.preprocessing import LabelEncoder\n",
        "from keras.models import Sequential\n",
        "from keras.layers import Dense\n",
        "from keras.layers import LSTM, Activation, Dropout,Bidirectional\n",
        "import pandas as pd\n",
        "import math\n",
        "import numpy as np\n",
        "import pandas as pd\n",
        "import seaborn as sns\n",
        "#import coremltools\n",
        "from scipy import stats\n",
        "from IPython.display import display, HTML\n",
        "\n",
        "from sklearn import metrics\n",
        "from sklearn.metrics import classification_report\n",
        "from sklearn import preprocessing\n",
        "\n",
        "import keras\n",
        "from keras.models import Sequential\n",
        "from keras.layers import Dense, Dropout, Flatten, Reshape\n",
        "from keras.layers import Conv2D, MaxPooling2D\n",
        "from keras.utils import np_utils\n",
        "from keras.layers import Dense, Dropout\n",
        "from keras.layers import LSTM\n",
        "\n",
        "model2b= Sequential()\n",
        "# First LSTM layer with Dropout regularisation\n",
        "model2b.add(Bidirectional(LSTM(50, activation='relu'), input_shape=(TrainingEC.shape[1],TrainingEC.shape[2])))\n",
        "model2b.add(Dropout(0.2))\n",
        "# Second LSTM layer\n",
        "#model2.add(Bidirectional(LSTM(units=50),input_shape=(train_X.shape[1],train_X.shape[2]))\n",
        "##model2.add(Dropout(0.2))\n",
        "## Third LSTM layer\n",
        "#model2.add(Bidirectional(LSTM(units=50), return_sequences=True)))\n",
        "##model2.add(Dropout(0.2))\n",
        "## Fourth LSTM layer\n",
        "#model2.add(Bidirectional(LSTM(units=50), return_sequences=True)))\n",
        "##model2.add(Dropout(0.2))\n",
        "## The output layer\n",
        "model2b.add(Dense(units=2))\n",
        "model2b.add(Activation('sigmoid'))\n",
        "model2b.summary()\n",
        "\n",
        "callbacks_list = [\n",
        "    keras.callbacks.ModelCheckpoint(\n",
        "        filepath='best_modellstmbilstm.{epoch:02d}-{val_loss:.2f}.h5',\n",
        "        monitor='val_loss', save_best_only=True),\n",
        "    keras.callbacks.EarlyStopping(monitor='acc', patience=1)\n",
        "]\n",
        "\n",
        "model2b.compile(loss='binary_crossentropy',\n",
        "                optimizer='adam', metrics=['acc'])\n",
        "\n",
        "BATCH_SIZE = 400\n",
        "EPOCHS = 50\n",
        "\n",
        "history = model2b.fit(TrainingEC,\n",
        "                      TrainingEClabel,\n",
        "                      batch_size=BATCH_SIZE,\n",
        "                      epochs=EPOCHS,\n",
        "                      callbacks=callbacks_list,\n",
        "                      validation_split=0.2,\n",
        "                      verbose=1)"
      ],
      "execution_count": 12,
      "outputs": [
        {
          "output_type": "stream",
          "text": [
            "WARNING:tensorflow:Layer lstm_3 will not use cuDNN kernel since it doesn't meet the cuDNN kernel criteria. It will use generic GPU kernel as fallback when running on GPU\n",
            "WARNING:tensorflow:Layer lstm_3 will not use cuDNN kernel since it doesn't meet the cuDNN kernel criteria. It will use generic GPU kernel as fallback when running on GPU\n",
            "WARNING:tensorflow:Layer lstm_3 will not use cuDNN kernel since it doesn't meet the cuDNN kernel criteria. It will use generic GPU kernel as fallback when running on GPU\n",
            "Model: \"sequential_3\"\n",
            "_________________________________________________________________\n",
            "Layer (type)                 Output Shape              Param #   \n",
            "=================================================================\n",
            "bidirectional_1 (Bidirection (None, 100)               28000     \n",
            "_________________________________________________________________\n",
            "dropout_2 (Dropout)          (None, 100)               0         \n",
            "_________________________________________________________________\n",
            "dense_2 (Dense)              (None, 2)                 202       \n",
            "_________________________________________________________________\n",
            "activation_1 (Activation)    (None, 2)                 0         \n",
            "=================================================================\n",
            "Total params: 28,202\n",
            "Trainable params: 28,202\n",
            "Non-trainable params: 0\n",
            "_________________________________________________________________\n",
            "Epoch 1/50\n",
            "4/4 [==============================] - 4s 968ms/step - loss: nan - acc: 0.4781 - val_loss: nan - val_acc: 0.5446\n",
            "Epoch 2/50\n",
            "4/4 [==============================] - 4s 949ms/step - loss: nan - acc: 0.5186 - val_loss: nan - val_acc: 0.5446\n",
            "Epoch 3/50\n",
            "4/4 [==============================] - 4s 945ms/step - loss: nan - acc: 0.5186 - val_loss: nan - val_acc: 0.5446\n"
          ],
          "name": "stdout"
        }
      ]
    },
    {
      "cell_type": "code",
      "metadata": {
        "id": "VBFqo1lN5GhL"
      },
      "source": [
        ""
      ],
      "execution_count": null,
      "outputs": []
    }
  ]
}