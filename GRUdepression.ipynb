{
  "nbformat": 4,
  "nbformat_minor": 0,
  "metadata": {
    "colab": {
      "name": "GRUdepression.ipynb",
      "provenance": [],
      "collapsed_sections": []
    },
    "kernelspec": {
      "name": "python3",
      "display_name": "Python 3"
    },
    "accelerator": "GPU"
  },
  "cells": [
    {
      "cell_type": "code",
      "metadata": {
        "id": "gb_ESoVQ5k_k",
        "outputId": "6c364fcd-39aa-4e35-f80f-e1154764ac32",
        "colab": {
          "base_uri": "https://localhost:8080/"
        }
      },
      "source": [
        "from google.colab import drive\n",
        "drive.mount('/content/drive')"
      ],
      "execution_count": 1,
      "outputs": [
        {
          "output_type": "stream",
          "text": [
            "Mounted at /content/drive\n"
          ],
          "name": "stdout"
        }
      ]
    },
    {
      "cell_type": "code",
      "metadata": {
        "id": "h8pAu3qU5xVB",
        "outputId": "0dd90c66-ba5e-400c-9f34-f3e7fcb989b7",
        "colab": {
          "base_uri": "https://localhost:8080/"
        }
      },
      "source": [
        "cd /content/drive/My\\ Drive"
      ],
      "execution_count": 2,
      "outputs": [
        {
          "output_type": "stream",
          "text": [
            "/content/drive/My Drive\n"
          ],
          "name": "stdout"
        }
      ]
    },
    {
      "cell_type": "code",
      "metadata": {
        "id": "WJqhQ_g-54ZP"
      },
      "source": [
        "import numpy as np\n",
        "TrainingEC=np.load('/content/drive/My Drive/Depressiontraintestdataset/TrainingEC.npy')\n",
        "TrainingEClabel=np.load('/content/drive/My Drive/Depressiontraintestdataset/TraininglabelsEC.npy')\n",
        "testingEC=np.load('/content/drive/My Drive/Depressiontraintestdataset/TestingEC.npy')\n",
        "testingEClabel=np.load('/content/drive/My Drive/Depressiontraintestdataset/TestinglabelsEC.npy')\n",
        "\n",
        "TrainingEO=np.load('/content/drive/My Drive/Depressiontraintestdataset/TrainingEO.npy')\n",
        "TrainingEOlabel=np.load('/content/drive/My Drive/Depressiontraintestdataset/TraininglabelsEO.npy')\n",
        "testingEO=np.load('/content/drive/My Drive/Depressiontraintestdataset/TestingEO.npy')\n",
        "testingEOlabel=np.load('/content/drive/My Drive/Depressiontraintestdataset/TestinglabelsEO.npy')"
      ],
      "execution_count": 3,
      "outputs": []
    },
    {
      "cell_type": "code",
      "metadata": {
        "id": "1Oj41zzw57J-",
        "outputId": "be9ff278-bcbe-48f2-8562-65bc595b8602",
        "colab": {
          "base_uri": "https://localhost:8080/"
        }
      },
      "source": [
        "print(TrainingEC.shape)\n",
        "print(TrainingEClabel.shape)\n",
        "print(testingEC.shape)\n",
        "print(testingEClabel.shape)"
      ],
      "execution_count": 4,
      "outputs": [
        {
          "output_type": "stream",
          "text": [
            "(1512, 500, 19)\n",
            "(1512, 2)\n",
            "(378, 500, 19)\n",
            "(378, 2)\n"
          ],
          "name": "stdout"
        }
      ]
    },
    {
      "cell_type": "code",
      "metadata": {
        "id": "j2cntLla57fk"
      },
      "source": [
        "# prepare dataset for 1DCNN model\n",
        "temporal_dimension = TrainingEC.shape[1]\n",
        "num_channels = TrainingEC.shape[2]"
      ],
      "execution_count": 5,
      "outputs": []
    },
    {
      "cell_type": "code",
      "metadata": {
        "id": "4-IKmA4O6CUY"
      },
      "source": [
        "from numpy import concatenate\n",
        "from matplotlib import pyplot\n",
        "from pandas import read_csv\n",
        "from pandas import DataFrame\n",
        "from pandas import concat\n",
        "from sklearn.preprocessing import MinMaxScaler\n",
        "from sklearn.preprocessing import LabelEncoder\n",
        "from keras.models import Sequential\n",
        "from keras.layers import Dense\n",
        "from keras.layers import LSTM, Activation, Dropout, GRU\n",
        "import pandas as pd\n",
        "from keras.optimizers import SGD\n",
        "import math\n",
        "\n",
        "#%EEG dataset for depression assesment computation\n",
        "\n",
        "# Control Dataset\n",
        "import os\n",
        "import scipy\n",
        "from scipy import io, signal\n",
        "import matplotlib.pyplot as plt\n",
        "import numpy as np\n",
        "import itertools\n",
        "import pywt\n",
        "#from __future__ import print_function\n",
        "from matplotlib import pyplot as plt\n",
        "#%matplotlib inline\n",
        "import numpy as np\n",
        "import pandas as pd\n",
        "import seaborn as sns\n",
        "#import coremltools\n",
        "from scipy import stats\n",
        "from IPython.display import display, HTML\n",
        "\n",
        "from sklearn import metrics\n",
        "from sklearn.metrics import classification_report\n",
        "from sklearn import preprocessing\n",
        "\n",
        "\n",
        "import keras\n",
        "from keras.models import Sequential\n",
        "from keras.layers import Dense, Dropout, Flatten, Reshape, Activation\n",
        "from keras.layers import Conv2D, MaxPooling2D\n",
        "from keras.utils import np_utils\n",
        "from keras.models import Sequential\n",
        "from keras.layers import Dense, Dropout\n",
        "from keras.layers import Embedding\n",
        "from keras.layers import LSTM\n",
        "from sklearn.preprocessing import MinMaxScaler"
      ],
      "execution_count": 7,
      "outputs": []
    },
    {
      "cell_type": "code",
      "metadata": {
        "id": "-psDQeGT6TIH",
        "outputId": "df5dfa1f-8db4-44f4-d678-5b89cb45013c",
        "colab": {
          "base_uri": "https://localhost:8080/"
        }
      },
      "source": [
        "# The GRU architecture\n",
        "modelGRU = Sequential()\n",
        "# First GRU layer with Dropout regularisation\n",
        "modelGRU.add(GRU(units=50, return_sequences=False, input_shape=(TrainingEC.shape[1],TrainingEC.shape[2]), activation='tanh'))\n",
        "#print(modelGRU.get_input_at())\n",
        "modelGRU.add(Dropout(0.2))\n",
        "print(modelGRU)\n",
        "# The output layer\n",
        "modelGRU.add(Dense(units=2))\n",
        "modelGRU.add(Activation('sigmoid'))\n",
        "modelGRU.summary()"
      ],
      "execution_count": 9,
      "outputs": [
        {
          "output_type": "stream",
          "text": [
            "<tensorflow.python.keras.engine.sequential.Sequential object at 0x7f628f859080>\n",
            "Model: \"sequential_1\"\n",
            "_________________________________________________________________\n",
            "Layer (type)                 Output Shape              Param #   \n",
            "=================================================================\n",
            "gru (GRU)                    (None, 50)                10650     \n",
            "_________________________________________________________________\n",
            "dropout (Dropout)            (None, 50)                0         \n",
            "_________________________________________________________________\n",
            "dense (Dense)                (None, 2)                 102       \n",
            "_________________________________________________________________\n",
            "activation (Activation)      (None, 2)                 0         \n",
            "=================================================================\n",
            "Total params: 10,752\n",
            "Trainable params: 10,752\n",
            "Non-trainable params: 0\n",
            "_________________________________________________________________\n"
          ],
          "name": "stdout"
        }
      ]
    },
    {
      "cell_type": "code",
      "metadata": {
        "id": "zJdk0TH86n_v",
        "outputId": "0a5a12ed-1db1-4b84-ac1b-1f56410e0abf",
        "colab": {
          "base_uri": "https://localhost:8080/"
        }
      },
      "source": [
        "for layer in modelGRU.layers:\n",
        "  print(layer.get_config(),layer.get_weights())"
      ],
      "execution_count": 11,
      "outputs": [
        {
          "output_type": "stream",
          "text": [
            "{'name': 'gru', 'trainable': True, 'batch_input_shape': (None, 500, 19), 'dtype': 'float32', 'return_sequences': False, 'return_state': False, 'go_backwards': False, 'stateful': False, 'unroll': False, 'time_major': False, 'units': 50, 'activation': 'tanh', 'recurrent_activation': 'sigmoid', 'use_bias': True, 'kernel_initializer': {'class_name': 'GlorotUniform', 'config': {'seed': None}}, 'recurrent_initializer': {'class_name': 'Orthogonal', 'config': {'gain': 1.0, 'seed': None}}, 'bias_initializer': {'class_name': 'Zeros', 'config': {}}, 'kernel_regularizer': None, 'recurrent_regularizer': None, 'bias_regularizer': None, 'activity_regularizer': None, 'kernel_constraint': None, 'recurrent_constraint': None, 'bias_constraint': None, 'dropout': 0.0, 'recurrent_dropout': 0.0, 'implementation': 2, 'reset_after': True} [array([[ 0.18550292, -0.14749652, -0.1505531 , ...,  0.13407642,\n",
            "        -0.10766592,  0.14834449],\n",
            "       [-0.08989338, -0.10949861,  0.01824765, ..., -0.01890878,\n",
            "        -0.12875067, -0.0688922 ],\n",
            "       [-0.03591318, -0.00137264,  0.04439476, ...,  0.133695  ,\n",
            "        -0.17324363,  0.02581085],\n",
            "       ...,\n",
            "       [-0.01984809,  0.00114964,  0.18503729, ...,  0.04561982,\n",
            "         0.11794508, -0.16592117],\n",
            "       [-0.10132077,  0.09004042, -0.14743532, ...,  0.08053356,\n",
            "         0.1817405 ,  0.16871315],\n",
            "       [ 0.05546941, -0.09275962,  0.01644959, ...,  0.06783363,\n",
            "         0.1609366 ,  0.14040941]], dtype=float32), array([[ 0.03894365, -0.03013223, -0.05324828, ..., -0.1201233 ,\n",
            "        -0.10233326,  0.02437274],\n",
            "       [ 0.0549706 ,  0.04216874,  0.05235386, ...,  0.21949896,\n",
            "         0.13573523,  0.10581885],\n",
            "       [ 0.1028437 , -0.030809  , -0.20481575, ..., -0.05557106,\n",
            "         0.09418292, -0.1015778 ],\n",
            "       ...,\n",
            "       [ 0.09395741,  0.0254269 , -0.04904807, ...,  0.02013389,\n",
            "         0.06656298, -0.10329022],\n",
            "       [ 0.17497124, -0.11506911, -0.00883133, ...,  0.06100315,\n",
            "        -0.10974269, -0.01097591],\n",
            "       [-0.07785109, -0.01172459,  0.05048916, ...,  0.01930979,\n",
            "        -0.19511437, -0.1558609 ]], dtype=float32), array([[0., 0., 0., 0., 0., 0., 0., 0., 0., 0., 0., 0., 0., 0., 0., 0.,\n",
            "        0., 0., 0., 0., 0., 0., 0., 0., 0., 0., 0., 0., 0., 0., 0., 0.,\n",
            "        0., 0., 0., 0., 0., 0., 0., 0., 0., 0., 0., 0., 0., 0., 0., 0.,\n",
            "        0., 0., 0., 0., 0., 0., 0., 0., 0., 0., 0., 0., 0., 0., 0., 0.,\n",
            "        0., 0., 0., 0., 0., 0., 0., 0., 0., 0., 0., 0., 0., 0., 0., 0.,\n",
            "        0., 0., 0., 0., 0., 0., 0., 0., 0., 0., 0., 0., 0., 0., 0., 0.,\n",
            "        0., 0., 0., 0., 0., 0., 0., 0., 0., 0., 0., 0., 0., 0., 0., 0.,\n",
            "        0., 0., 0., 0., 0., 0., 0., 0., 0., 0., 0., 0., 0., 0., 0., 0.,\n",
            "        0., 0., 0., 0., 0., 0., 0., 0., 0., 0., 0., 0., 0., 0., 0., 0.,\n",
            "        0., 0., 0., 0., 0., 0.],\n",
            "       [0., 0., 0., 0., 0., 0., 0., 0., 0., 0., 0., 0., 0., 0., 0., 0.,\n",
            "        0., 0., 0., 0., 0., 0., 0., 0., 0., 0., 0., 0., 0., 0., 0., 0.,\n",
            "        0., 0., 0., 0., 0., 0., 0., 0., 0., 0., 0., 0., 0., 0., 0., 0.,\n",
            "        0., 0., 0., 0., 0., 0., 0., 0., 0., 0., 0., 0., 0., 0., 0., 0.,\n",
            "        0., 0., 0., 0., 0., 0., 0., 0., 0., 0., 0., 0., 0., 0., 0., 0.,\n",
            "        0., 0., 0., 0., 0., 0., 0., 0., 0., 0., 0., 0., 0., 0., 0., 0.,\n",
            "        0., 0., 0., 0., 0., 0., 0., 0., 0., 0., 0., 0., 0., 0., 0., 0.,\n",
            "        0., 0., 0., 0., 0., 0., 0., 0., 0., 0., 0., 0., 0., 0., 0., 0.,\n",
            "        0., 0., 0., 0., 0., 0., 0., 0., 0., 0., 0., 0., 0., 0., 0., 0.,\n",
            "        0., 0., 0., 0., 0., 0.]], dtype=float32)]\n",
            "{'name': 'dropout', 'trainable': True, 'dtype': 'float32', 'rate': 0.2, 'noise_shape': None, 'seed': None} []\n",
            "{'name': 'dense', 'trainable': True, 'dtype': 'float32', 'units': 2, 'activation': 'linear', 'use_bias': True, 'kernel_initializer': {'class_name': 'GlorotUniform', 'config': {'seed': None}}, 'bias_initializer': {'class_name': 'Zeros', 'config': {}}, 'kernel_regularizer': None, 'bias_regularizer': None, 'activity_regularizer': None, 'kernel_constraint': None, 'bias_constraint': None} [array([[-0.04331845, -0.0738754 ],\n",
            "       [ 0.07366112, -0.3078572 ],\n",
            "       [ 0.01012692,  0.25098866],\n",
            "       [ 0.16820836, -0.11461684],\n",
            "       [-0.2180495 , -0.04160008],\n",
            "       [ 0.03680313, -0.32320958],\n",
            "       [ 0.14510527,  0.25400364],\n",
            "       [-0.2372134 , -0.31323397],\n",
            "       [-0.2515216 , -0.14330494],\n",
            "       [ 0.28923965,  0.06142813],\n",
            "       [ 0.03410643,  0.33489132],\n",
            "       [-0.32753348, -0.12021652],\n",
            "       [ 0.21828687,  0.02969128],\n",
            "       [ 0.1935957 ,  0.05607176],\n",
            "       [-0.171891  ,  0.1439893 ],\n",
            "       [-0.19717686, -0.321387  ],\n",
            "       [ 0.3103845 ,  0.23700225],\n",
            "       [-0.27446562, -0.02422005],\n",
            "       [ 0.30718428, -0.26730266],\n",
            "       [ 0.18156928,  0.0542514 ],\n",
            "       [ 0.26086622,  0.04194427],\n",
            "       [-0.14684545,  0.32312018],\n",
            "       [-0.31399468,  0.26183903],\n",
            "       [ 0.16998905,  0.25304115],\n",
            "       [ 0.02291554, -0.20073047],\n",
            "       [ 0.22277772, -0.01925039],\n",
            "       [-0.23161016,  0.05578464],\n",
            "       [ 0.25809252, -0.31304738],\n",
            "       [-0.21733883,  0.3204022 ],\n",
            "       [ 0.1582666 ,  0.11787793],\n",
            "       [-0.14863501, -0.11625464],\n",
            "       [-0.00037035,  0.19418442],\n",
            "       [-0.32748002,  0.16879171],\n",
            "       [ 0.11198711, -0.21146795],\n",
            "       [ 0.20661616, -0.05300608],\n",
            "       [-0.2970137 , -0.2225241 ],\n",
            "       [-0.33548832,  0.32122415],\n",
            "       [ 0.20105475, -0.30425644],\n",
            "       [-0.14728002, -0.20075355],\n",
            "       [-0.01215094, -0.25907546],\n",
            "       [-0.2863917 , -0.13225041],\n",
            "       [-0.29803056,  0.02931413],\n",
            "       [-0.07118371, -0.16002531],\n",
            "       [-0.25157818, -0.2567092 ],\n",
            "       [ 0.10909483, -0.02096942],\n",
            "       [ 0.14160275, -0.04200515],\n",
            "       [-0.1529457 , -0.26694396],\n",
            "       [-0.17632698,  0.18597293],\n",
            "       [ 0.17941737,  0.02658975],\n",
            "       [-0.00858444, -0.15651973]], dtype=float32), array([0., 0.], dtype=float32)]\n",
            "{'name': 'activation', 'trainable': True, 'dtype': 'float32', 'activation': 'sigmoid'} []\n"
          ],
          "name": "stdout"
        }
      ]
    },
    {
      "cell_type": "code",
      "metadata": {
        "id": "Sq28f4Xv63mI",
        "outputId": "fc2a95da-a8f0-478b-ec70-42d9faa75b98",
        "colab": {
          "base_uri": "https://localhost:8080/"
        }
      },
      "source": [
        "for layer in modelGRU.layers:\n",
        "  print(layer.name)\n",
        "\n",
        "weights=modelGRU.layers[0].get_weights()[0]\n",
        "baises=modelGRU.layers[0].get_weights()[1]\n",
        "print(weights.shape)\n",
        "print(baises.shape)\n",
        "\n",
        "weights=modelGRU.layers[2].get_weights()[0]\n",
        "baises=modelGRU.layers[2].get_weights()[1]\n",
        "print(weights.shape)\n",
        "print(baises.shape)"
      ],
      "execution_count": 15,
      "outputs": [
        {
          "output_type": "stream",
          "text": [
            "gru\n",
            "dropout\n",
            "dense\n",
            "activation\n",
            "(19, 150)\n",
            "(50, 150)\n",
            "(50, 2)\n",
            "(2,)\n"
          ],
          "name": "stdout"
        }
      ]
    },
    {
      "cell_type": "code",
      "metadata": {
        "id": "TiG2pL8c77l4",
        "outputId": "c357809b-6073-47f2-fce5-4f4811ca8fc0",
        "colab": {
          "base_uri": "https://localhost:8080/"
        }
      },
      "source": [
        "callbacks_list = [\n",
        "    keras.callbacks.ModelCheckpoint(\n",
        "        filepath='best_modellstmmulti.{epoch:02d}-{val_loss:.2f}.h5',\n",
        "        monitor='val_loss', save_best_only=True),\n",
        "    keras.callbacks.EarlyStopping(monitor='acc', patience=1)\n",
        "]\n",
        "\n",
        "modelGRU.compile(loss='binary_crossentropy',\n",
        "                optimizer='adam', metrics=['acc'])\n",
        "\n",
        "BATCH_SIZE = 400\n",
        "EPOCHS = 50\n",
        "\n",
        "history = modelGRU.fit(TrainingEC,\n",
        "                      TrainingEClabel,\n",
        "                      batch_size=BATCH_SIZE,\n",
        "                      epochs=EPOCHS,\n",
        "                      callbacks=callbacks_list,\n",
        "                      validation_split=0.2,\n",
        "                      verbose=1)"
      ],
      "execution_count": 18,
      "outputs": [
        {
          "output_type": "stream",
          "text": [
            "Epoch 1/50\n",
            "4/4 [==============================] - 0s 124ms/step - loss: 0.4951 - acc: 0.7833 - val_loss: 0.6047 - val_acc: 0.6601\n",
            "Epoch 2/50\n",
            "4/4 [==============================] - 0s 47ms/step - loss: 0.4829 - acc: 0.7866 - val_loss: 0.6007 - val_acc: 0.6601\n",
            "Epoch 3/50\n",
            "4/4 [==============================] - 0s 44ms/step - loss: 0.4715 - acc: 0.7916 - val_loss: 0.5975 - val_acc: 0.6700\n",
            "Epoch 4/50\n",
            "4/4 [==============================] - 0s 47ms/step - loss: 0.4698 - acc: 0.7990 - val_loss: 0.5956 - val_acc: 0.6766\n",
            "Epoch 5/50\n",
            "4/4 [==============================] - 0s 46ms/step - loss: 0.4734 - acc: 0.7899 - val_loss: 0.5951 - val_acc: 0.6832\n"
          ],
          "name": "stdout"
        }
      ]
    },
    {
      "cell_type": "code",
      "metadata": {
        "id": "gHGBmqBF7w4M",
        "outputId": "9f3a331e-1dae-44af-d91e-9296a2b2738a",
        "colab": {
          "base_uri": "https://localhost:8080/",
          "height": 295
        }
      },
      "source": [
        "plt.figure(figsize=(6, 4))\n",
        "plt.plot(history.history['acc'], 'r', label='Accuracy of training data')\n",
        "plt.plot(history.history['val_acc'], 'b', label='Accuracy of validation data')\n",
        "plt.plot(history.history['loss'], 'r--', label='Loss of training data')\n",
        "plt.plot(history.history['val_loss'], 'b--', label='Loss of validation data')\n",
        "plt.title('Model Accuracy and Loss')\n",
        "plt.ylabel('Accuracy and Loss')\n",
        "plt.xlabel('Training Epoch')\n",
        "plt.ylim(0)\n",
        "plt.legend()\n",
        "plt.show()"
      ],
      "execution_count": 19,
      "outputs": [
        {
          "output_type": "display_data",
          "data": {
            "image/png": "[encoded data removed]",
            "text/plain": [
              "<Figure size 432x288 with 1 Axes>"
            ]
          },
          "metadata": {
            "tags": [],
            "needs_background": "light"
          }
        }
      ]
    },
    {
      "cell_type": "code",
      "metadata": {
        "id": "BMaElIwZ8Sc3",
        "outputId": "864efbdf-c13a-44e1-9c09-52326e115d37",
        "colab": {
          "base_uri": "https://localhost:8080/"
        }
      },
      "source": [
        "#%accuracy on test data\n",
        "#y_testEC = np_utils.to_categorical(testingEC,2)\n",
        "\n",
        "score = modelGRU.evaluate(testingEC, testingEClabel, verbose=1)\n",
        "\n",
        "print('\\nAccuracy on test data: %0.2f' % score[1])\n",
        "print('\\nLoss on test data: %0.2f' % score[0])"
      ],
      "execution_count": 20,
      "outputs": [
        {
          "output_type": "stream",
          "text": [
            "12/12 [==============================] - 0s 12ms/step - loss: 0.5399 - acc: 0.7434\n",
            "\n",
            "Accuracy on test data: 0.74\n",
            "\n",
            "Loss on test data: 0.54\n"
          ],
          "name": "stdout"
        }
      ]
    },
    {
      "cell_type": "code",
      "metadata": {
        "id": "PAAaPWND8he4",
        "outputId": "f8d502d9-5bcc-43ed-8022-8dd0d9198376",
        "colab": {
          "base_uri": "https://localhost:8080/",
          "height": 338
        }
      },
      "source": [
        "LABELS = ['Control','MDD']\n",
        "def show_confusion_matrix(validations, predictions):\n",
        "\n",
        "    matrix = metrics.confusion_matrix(validations, predictions)\n",
        "    plt.figure(figsize=(2, 2))\n",
        "    sns.heatmap(matrix,\n",
        "                cmap='coolwarm',\n",
        "                linecolor='white',\n",
        "                linewidths=1,\n",
        "                xticklabels=LABELS,\n",
        "                yticklabels=LABELS,\n",
        "                annot=True,\n",
        "                fmt='d')\n",
        "    plt.title('Confusion Matrix')\n",
        "    plt.ylabel('True Label')\n",
        "    plt.xlabel('Predicted Label')\n",
        "    plt.show()\n",
        "y_pred_test = modelGRU.predict(testingEC)\n",
        "# Take the class with the highest probability from the test predictions\n",
        "max_y_pred_test = np.argmax(y_pred_test, axis=1)\n",
        "max_y_test = np.argmax(testingEClabel, axis=1)\n",
        "\n",
        "show_confusion_matrix(max_y_test, max_y_pred_test)\n",
        "\n",
        "print(classification_report(max_y_test, max_y_pred_test))"
      ],
      "execution_count": 21,
      "outputs": [
        {
          "output_type": "display_data",
          "data": {
            "image/png": "[encoded data removed]",
            "text/plain": [
              "<Figure size 144x144 with 2 Axes>"
            ]
          },
          "metadata": {
            "tags": [],
            "needs_background": "light"
          }
        },
        {
          "output_type": "stream",
          "text": [
            "              precision    recall  f1-score   support\n",
            "\n",
            "           0       0.70      0.88      0.78       198\n",
            "           1       0.82      0.59      0.69       180\n",
            "\n",
            "    accuracy                           0.74       378\n",
            "   macro avg       0.76      0.74      0.74       378\n",
            "weighted avg       0.76      0.74      0.74       378\n",
            "\n"
          ],
          "name": "stdout"
        }
      ]
    },
    {
      "cell_type": "code",
      "metadata": {
        "id": "NqX6wPMk8tnQ",
        "outputId": "661baa20-9c33-4abb-ad34-013804fc55e1",
        "colab": {
          "base_uri": "https://localhost:8080/"
        }
      },
      "source": [
        "# multiple GRU layers model\n",
        "# The GRU architecture\n",
        "modelGRU = Sequential()\n",
        "# First GRU layer with Dropout regularisation\n",
        "modelGRU.add(GRU(units=50, return_sequences=True, input_shape=(TrainingEC.shape[1],TrainingEC.shape[2]), activation='tanh'))\n",
        "#print(modelGRU.get_input_at())\n",
        "modelGRU.add(Dropout(0.2))\n",
        "print(modelGRU)\n",
        "# Second GRU layer\n",
        "modelGRU.add(GRU(units=50, return_sequences=True, input_shape=(TrainingEC.shape[1],TrainingEC.shape[2]), activation='tanh'))\n",
        "modelGRU.add(Dropout(0.2))\n",
        "# Third GRU layer\n",
        "modelGRU.add(GRU(units=50, return_sequences=True, input_shape=(TrainingEC.shape[1],TrainingEC.shape[2]), activation='tanh'))\n",
        "modelGRU.add(Dropout(0.2))\n",
        "# Fourth GRU layer\n",
        "modelGRU.add(GRU(units=50, activation='tanh'))\n",
        "modelGRU.add(Dropout(0.2))\n",
        "# The output layer\n",
        "modelGRU.add(Dense(units=2))\n",
        "modelGRU.add(Activation('sigmoid'))\n",
        "modelGRU.summary()"
      ],
      "execution_count": 24,
      "outputs": [
        {
          "output_type": "stream",
          "text": [
            "<tensorflow.python.keras.engine.sequential.Sequential object at 0x7f61d06bf518>\n",
            "Model: \"sequential_4\"\n",
            "_________________________________________________________________\n",
            "Layer (type)                 Output Shape              Param #   \n",
            "=================================================================\n",
            "gru_2 (GRU)                  (None, 500, 50)           10650     \n",
            "_________________________________________________________________\n",
            "dropout_2 (Dropout)          (None, 500, 50)           0         \n",
            "_________________________________________________________________\n",
            "gru_3 (GRU)                  (None, 500, 50)           15300     \n",
            "_________________________________________________________________\n",
            "dropout_3 (Dropout)          (None, 500, 50)           0         \n",
            "_________________________________________________________________\n",
            "gru_4 (GRU)                  (None, 500, 50)           15300     \n",
            "_________________________________________________________________\n",
            "dropout_4 (Dropout)          (None, 500, 50)           0         \n",
            "_________________________________________________________________\n",
            "gru_5 (GRU)                  (None, 50)                15300     \n",
            "_________________________________________________________________\n",
            "dropout_5 (Dropout)          (None, 50)                0         \n",
            "_________________________________________________________________\n",
            "dense_1 (Dense)              (None, 2)                 102       \n",
            "_________________________________________________________________\n",
            "activation_1 (Activation)    (None, 2)                 0         \n",
            "=================================================================\n",
            "Total params: 56,652\n",
            "Trainable params: 56,652\n",
            "Non-trainable params: 0\n",
            "_________________________________________________________________\n"
          ],
          "name": "stdout"
        }
      ]
    },
    {
      "cell_type": "code",
      "metadata": {
        "id": "g74UYwBD9Jog",
        "outputId": "1228ca4f-e3d5-4d66-e957-caf757a32a39",
        "colab": {
          "base_uri": "https://localhost:8080/"
        }
      },
      "source": [
        "# multiple GRU layers model\n",
        "# The GRU architecture\n",
        "modelGRU = Sequential()\n",
        "# First GRU layer with Dropout regularisation\n",
        "modelGRU.add(GRU(units=50, return_sequences=True, input_shape=(TrainingEC.shape[1],TrainingEC.shape[2]), activation='tanh'))\n",
        "#print(modelGRU.get_input_at())\n",
        "modelGRU.add(Dropout(0.2))\n",
        "print(modelGRU)\n",
        "# Second GRU layer\n",
        "modelGRU.add(GRU(units=50, return_sequences=True))\n",
        "modelGRU.add(Dropout(0.2))\n",
        "# Third GRU layer\n",
        "modelGRU.add(GRU(units=50, return_sequences=True))\n",
        "modelGRU.add(Dropout(0.2))\n",
        "# Fourth GRU layer\n",
        "modelGRU.add(GRU(units=50, activation='tanh'))\n",
        "modelGRU.add(Dropout(0.2))\n",
        "# The output layer\n",
        "modelGRU.add(Dense(units=2))\n",
        "modelGRU.add(Activation('sigmoid'))\n",
        "modelGRU.summary()"
      ],
      "execution_count": 26,
      "outputs": [
        {
          "output_type": "stream",
          "text": [
            "<tensorflow.python.keras.engine.sequential.Sequential object at 0x7f62164c3f28>\n",
            "Model: \"sequential_5\"\n",
            "_________________________________________________________________\n",
            "Layer (type)                 Output Shape              Param #   \n",
            "=================================================================\n",
            "gru_6 (GRU)                  (None, 500, 50)           10650     \n",
            "_________________________________________________________________\n",
            "dropout_6 (Dropout)          (None, 500, 50)           0         \n",
            "_________________________________________________________________\n",
            "gru_7 (GRU)                  (None, 500, 50)           15300     \n",
            "_________________________________________________________________\n",
            "dropout_7 (Dropout)          (None, 500, 50)           0         \n",
            "_________________________________________________________________\n",
            "gru_8 (GRU)                  (None, 500, 50)           15300     \n",
            "_________________________________________________________________\n",
            "dropout_8 (Dropout)          (None, 500, 50)           0         \n",
            "_________________________________________________________________\n",
            "gru_9 (GRU)                  (None, 50)                15300     \n",
            "_________________________________________________________________\n",
            "dropout_9 (Dropout)          (None, 50)                0         \n",
            "_________________________________________________________________\n",
            "dense_2 (Dense)              (None, 2)                 102       \n",
            "_________________________________________________________________\n",
            "activation_2 (Activation)    (None, 2)                 0         \n",
            "=================================================================\n",
            "Total params: 56,652\n",
            "Trainable params: 56,652\n",
            "Non-trainable params: 0\n",
            "_________________________________________________________________\n"
          ],
          "name": "stdout"
        }
      ]
    },
    {
      "cell_type": "code",
      "metadata": {
        "id": "_CSVjnvy82kY",
        "outputId": "dd2d022c-d2ec-4fd8-fd22-f68304495ec9",
        "colab": {
          "base_uri": "https://localhost:8080/"
        }
      },
      "source": [
        "callbacks_list = [\n",
        "    keras.callbacks.ModelCheckpoint(\n",
        "        filepath='best_modellstmmulti.{epoch:02d}-{val_loss:.2f}.h5',\n",
        "        monitor='val_loss', save_best_only=True),\n",
        "    keras.callbacks.EarlyStopping(monitor='acc', patience=1)\n",
        "]\n",
        "\n",
        "modelGRU.compile(loss='binary_crossentropy',\n",
        "                optimizer='adam', metrics=['acc'])\n",
        "\n",
        "BATCH_SIZE = 400\n",
        "EPOCHS = 50\n",
        "history = modelGRU.fit(TrainingEC,\n",
        "                      TrainingEClabel,\n",
        "                      batch_size=BATCH_SIZE,\n",
        "                      epochs=EPOCHS,\n",
        "                      callbacks=callbacks_list,\n",
        "                      validation_split=0.2,\n",
        "                      verbose=1)"
      ],
      "execution_count": 27,
      "outputs": [
        {
          "output_type": "stream",
          "text": [
            "Epoch 1/50\n",
            "4/4 [==============================] - 1s 372ms/step - loss: 0.6920 - acc: 0.5567 - val_loss: 0.6777 - val_acc: 0.6238\n",
            "Epoch 2/50\n",
            "4/4 [==============================] - 1s 156ms/step - loss: 0.6720 - acc: 0.6046 - val_loss: 0.6684 - val_acc: 0.6007\n",
            "Epoch 3/50\n",
            "4/4 [==============================] - 1s 158ms/step - loss: 0.6539 - acc: 0.6452 - val_loss: 0.6554 - val_acc: 0.6304\n",
            "Epoch 4/50\n",
            "4/4 [==============================] - 1s 156ms/step - loss: 0.6323 - acc: 0.6567 - val_loss: 0.6358 - val_acc: 0.6634\n",
            "Epoch 5/50\n",
            "4/4 [==============================] - 1s 161ms/step - loss: 0.6168 - acc: 0.6725 - val_loss: 0.6241 - val_acc: 0.6700\n",
            "Epoch 6/50\n",
            "4/4 [==============================] - 1s 159ms/step - loss: 0.5938 - acc: 0.7064 - val_loss: 0.6229 - val_acc: 0.6799\n",
            "Epoch 7/50\n",
            "4/4 [==============================] - 1s 145ms/step - loss: 0.5820 - acc: 0.7080 - val_loss: 0.6256 - val_acc: 0.6931\n",
            "Epoch 8/50\n",
            "4/4 [==============================] - 1s 144ms/step - loss: 0.5598 - acc: 0.7179 - val_loss: 0.6295 - val_acc: 0.7030\n",
            "Epoch 9/50\n",
            "4/4 [==============================] - 1s 154ms/step - loss: 0.5493 - acc: 0.7353 - val_loss: 0.6214 - val_acc: 0.7030\n",
            "Epoch 10/50\n",
            "4/4 [==============================] - 1s 158ms/step - loss: 0.5351 - acc: 0.7452 - val_loss: 0.6126 - val_acc: 0.7063\n",
            "Epoch 11/50\n",
            "4/4 [==============================] - 1s 144ms/step - loss: 0.5255 - acc: 0.7535 - val_loss: 0.6166 - val_acc: 0.7030\n",
            "Epoch 12/50\n",
            "4/4 [==============================] - 1s 145ms/step - loss: 0.5207 - acc: 0.7461 - val_loss: 0.6178 - val_acc: 0.7063\n"
          ],
          "name": "stdout"
        }
      ]
    },
    {
      "cell_type": "code",
      "metadata": {
        "id": "b71-3Vri9uRB",
        "outputId": "b74762fd-4712-42cb-b64d-46eeda05d554",
        "colab": {
          "base_uri": "https://localhost:8080/",
          "height": 295
        }
      },
      "source": [
        "plt.figure(figsize=(6, 4))\n",
        "plt.plot(history.history['acc'], 'r', label='Accuracy of training data')\n",
        "plt.plot(history.history['val_acc'], 'b', label='Accuracy of validation data')\n",
        "plt.plot(history.history['loss'], 'r--', label='Loss of training data')\n",
        "plt.plot(history.history['val_loss'], 'b--', label='Loss of validation data')\n",
        "plt.title('Model Accuracy and Loss')\n",
        "plt.ylabel('Accuracy and Loss')\n",
        "plt.xlabel('Training Epoch')\n",
        "plt.ylim(0)\n",
        "plt.legend()\n",
        "plt.show()"
      ],
      "execution_count": 28,
      "outputs": [
        {
          "output_type": "display_data",
          "data": {
            "image/png": "[encoded data removed]",
            "text/plain": [
              "<Figure size 432x288 with 1 Axes>"
            ]
          },
          "metadata": {
            "tags": [],
            "needs_background": "light"
          }
        }
      ]
    },
    {
      "cell_type": "code",
      "metadata": {
        "id": "_wurq9ws9zIb",
        "outputId": "23cd3b63-c11a-4d7a-cad3-445082841ebd",
        "colab": {
          "base_uri": "https://localhost:8080/"
        }
      },
      "source": [
        "#%accuracy on test data\n",
        "#y_testEC = np_utils.to_categorical(y_testEC,2)\n",
        "\n",
        "score = modelGRU.evaluate(testingEC, testingEClabel, verbose=1)\n",
        "\n",
        "print('\\nAccuracy on test data: %0.2f' % score[1])\n",
        "print('\\nLoss on test data: %0.2f' % score[0])"
      ],
      "execution_count": 29,
      "outputs": [
        {
          "output_type": "stream",
          "text": [
            "12/12 [==============================] - 0s 34ms/step - loss: 0.5574 - acc: 0.7302\n",
            "\n",
            "Accuracy on test data: 0.73\n",
            "\n",
            "Loss on test data: 0.56\n"
          ],
          "name": "stdout"
        }
      ]
    },
    {
      "cell_type": "code",
      "metadata": {
        "id": "XJFBxiXj97Xx",
        "outputId": "1f0fa2d6-b5c2-4496-a75a-13f532a1f167",
        "colab": {
          "base_uri": "https://localhost:8080/",
          "height": 338
        }
      },
      "source": [
        "LABELS = ['Control','MDD']\n",
        "def show_confusion_matrix(validations, predictions):\n",
        "\n",
        "    matrix = metrics.confusion_matrix(validations, predictions)\n",
        "    plt.figure(figsize=(2, 2))\n",
        "    sns.heatmap(matrix,\n",
        "                cmap='coolwarm',\n",
        "                linecolor='white',\n",
        "                linewidths=1,\n",
        "                xticklabels=LABELS,\n",
        "                yticklabels=LABELS,\n",
        "                annot=True,\n",
        "                fmt='d')\n",
        "    plt.title('Confusion Matrix')\n",
        "    plt.ylabel('True Label')\n",
        "    plt.xlabel('Predicted Label')\n",
        "    plt.show()\n",
        "\n",
        "\n",
        "y_pred_test = modelGRU.predict(testingEC)\n",
        "# Take the class with the highest probability from the test predictions\n",
        "max_y_pred_test = np.argmax(y_pred_test, axis=1)\n",
        "max_y_test = np.argmax(testingEClabel, axis=1)\n",
        "\n",
        "show_confusion_matrix(max_y_test, max_y_pred_test)\n",
        "\n",
        "print(classification_report(max_y_test, max_y_pred_test))"
      ],
      "execution_count": 30,
      "outputs": [
        {
          "output_type": "display_data",
          "data": {
            "image/png": "[encoded data removed]",
            "text/plain": [
              "<Figure size 144x144 with 2 Axes>"
            ]
          },
          "metadata": {
            "tags": [],
            "needs_background": "light"
          }
        },
        {
          "output_type": "stream",
          "text": [
            "              precision    recall  f1-score   support\n",
            "\n",
            "           0       0.71      0.83      0.76       198\n",
            "           1       0.77      0.62      0.69       180\n",
            "\n",
            "    accuracy                           0.73       378\n",
            "   macro avg       0.74      0.73      0.72       378\n",
            "weighted avg       0.74      0.73      0.73       378\n",
            "\n"
          ],
          "name": "stdout"
        }
      ]
    }
  ]
}