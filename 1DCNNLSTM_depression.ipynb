{
  "nbformat": 4,
  "nbformat_minor": 0,
  "metadata": {
    "colab": {
      "name": "1DCNNLSTM_depression.ipynb",
      "provenance": [],
      "collapsed_sections": []
    },
    "kernelspec": {
      "name": "python3",
      "display_name": "Python 3"
    },
    "accelerator": "GPU"
  },
  "cells": [
    {
      "cell_type": "code",
      "metadata": {
        "id": "JQLaQIJg-Tdy",
        "outputId": "8389e37a-f22c-492e-9912-8149bdeb0407",
        "colab": {
          "base_uri": "https://localhost:8080/"
        }
      },
      "source": [
        "from google.colab import drive\n",
        "drive.mount('/content/drive')"
      ],
      "execution_count": 1,
      "outputs": [
        {
          "output_type": "stream",
          "text": [
            "Mounted at /content/drive\n"
          ],
          "name": "stdout"
        }
      ]
    },
    {
      "cell_type": "code",
      "metadata": {
        "id": "eXSCEGZC-j6Q",
        "outputId": "e32e3a60-0f87-4c4f-c90a-932512921844",
        "colab": {
          "base_uri": "https://localhost:8080/"
        }
      },
      "source": [
        "cd /content/drive/My\\ Drive"
      ],
      "execution_count": 2,
      "outputs": [
        {
          "output_type": "stream",
          "text": [
            "/content/drive/My Drive\n"
          ],
          "name": "stdout"
        }
      ]
    },
    {
      "cell_type": "code",
      "metadata": {
        "id": "KnMO3Z2Q-evR"
      },
      "source": [
        "import numpy as np\n",
        "TrainingEC=np.load('/content/drive/My Drive/Depressiontraintestdataset/TrainingEC.npy')\n",
        "TrainingEClabel=np.load('/content/drive/My Drive/Depressiontraintestdataset/TraininglabelsEC.npy')\n",
        "testingEC=np.load('/content/drive/My Drive/Depressiontraintestdataset/TestingEC.npy')\n",
        "testingEClabel=np.load('/content/drive/My Drive/Depressiontraintestdataset/TestinglabelsEC.npy')\n",
        "\n",
        "TrainingEO=np.load('/content/drive/My Drive/Depressiontraintestdataset/TrainingEO.npy')\n",
        "TrainingEOlabel=np.load('/content/drive/My Drive/Depressiontraintestdataset/TraininglabelsEO.npy')\n",
        "testingEO=np.load('/content/drive/My Drive/Depressiontraintestdataset/TestingEO.npy')\n",
        "testingEOlabel=np.load('/content/drive/My Drive/Depressiontraintestdataset/TestinglabelsEO.npy')"
      ],
      "execution_count": 3,
      "outputs": []
    },
    {
      "cell_type": "code",
      "metadata": {
        "id": "yaE2HBvN-o6Q",
        "outputId": "ecbb581d-7321-4885-ca1c-8b94e59ec7f8",
        "colab": {
          "base_uri": "https://localhost:8080/"
        }
      },
      "source": [
        "print(TrainingEC.shape)\n",
        "print(TrainingEClabel.shape)\n",
        "print(testingEC.shape)\n",
        "print(testingEClabel.shape)"
      ],
      "execution_count": 4,
      "outputs": [
        {
          "output_type": "stream",
          "text": [
            "(1512, 500, 19)\n",
            "(1512, 2)\n",
            "(378, 500, 19)\n",
            "(378, 2)\n"
          ],
          "name": "stdout"
        }
      ]
    },
    {
      "cell_type": "code",
      "metadata": {
        "id": "SvcS-lgJ-r-A"
      },
      "source": [
        "from numpy import concatenate\n",
        "from matplotlib import pyplot\n",
        "from pandas import read_csv\n",
        "from pandas import DataFrame\n",
        "from pandas import concat\n",
        "from sklearn.preprocessing import MinMaxScaler\n",
        "from sklearn.preprocessing import LabelEncoder\n",
        "from keras.models import Sequential\n",
        "from keras.layers import Dense\n",
        "from keras.layers import LSTM, Activation, Dropout, GRU\n",
        "import pandas as pd\n",
        "from keras.optimizers import SGD\n",
        "import math\n",
        "from keras.layers import Conv1D,MaxPool1D,LSTM, Dropout\n",
        "\n",
        "from keras.models import Sequential\n",
        "from keras.layers import Reshape, Conv1D, MaxPooling1D, GlobalAveragePooling1D, Dropout, Dense\n",
        "\n",
        "# Control Dataset\n",
        "import os\n",
        "import scipy\n",
        "from scipy import io, signal\n",
        "import matplotlib.pyplot as plt\n",
        "import numpy as np\n",
        "import itertools\n",
        "import pywt\n",
        "#from __future__ import print_function\n",
        "from matplotlib import pyplot as plt\n",
        "#%matplotlib inline\n",
        "import numpy as np\n",
        "import pandas as pd\n",
        "import seaborn as sns\n",
        "#import coremltools\n",
        "from scipy import stats\n",
        "from IPython.display import display, HTML\n",
        "\n",
        "from sklearn import metrics\n",
        "from sklearn.metrics import classification_report\n",
        "from sklearn import preprocessing\n",
        "\n",
        "\n",
        "import keras\n",
        "from keras.models import Sequential\n",
        "from keras.layers import Dense, Dropout, Flatten, Reshape, Activation,BatchNormalization\n",
        "from keras.layers import Conv2D, MaxPooling2D\n",
        "from keras.utils import np_utils\n",
        "from keras.models import Sequential\n",
        "from keras.layers import Dense, Dropout\n",
        "from keras.layers import Embedding\n",
        "from keras.layers import LSTM\n",
        "from sklearn.preprocessing import MinMaxScaler"
      ],
      "execution_count": 6,
      "outputs": []
    },
    {
      "cell_type": "code",
      "metadata": {
        "id": "Nsy9mJao-1mo",
        "outputId": "165da6e4-10b6-400f-a110-0e9bc57a5cb8",
        "colab": {
          "base_uri": "https://localhost:8080/"
        }
      },
      "source": [
        "temporal_dimension = TrainingEC.shape[1]\n",
        "num_channels = TrainingEC.shape[2]\n",
        "num_classes = 2\n",
        "modellstm = Sequential()\n",
        "modellstm.add(Conv1D(64, 5, activation='elu', input_shape=(temporal_dimension,num_channels)))\n",
        "modellstm.add(MaxPool1D(3,1,))\n",
        "modellstm.add(Dropout(0.2))\n",
        "    # model.add(BatchNormalization())\n",
        "modellstm.add(Conv1D(48, 5, activation='elu'))\n",
        "modellstm.add(MaxPool1D(3,1,))\n",
        "modellstm.add(Dropout(0.2))\n",
        "    # model.add(BatchNormalization())\n",
        "modellstm.add(Conv1D(24, 3, activation='elu'))\n",
        "modellstm.add(MaxPool1D(3,1,))\n",
        "modellstm.add(Dropout(0.2))\n",
        "    # model.add(BatchNormalization())\n",
        "modellstm.add(LSTM(128, return_sequences=True))\n",
        "modellstm.add(LSTM(64)) #stacked recurrent layers said to enable deeper time series learningmodel.add(Dense(bdfData.info['nchan']))\n",
        "#model.compile(optimizer='rmsprop', loss='mse', metrics=['mse'])\n",
        "modellstm.add(Dense(units=2))\n",
        "modellstm.add(Activation('sigmoid'))\n",
        "modellstm.summary()"
      ],
      "execution_count": 7,
      "outputs": [
        {
          "output_type": "stream",
          "text": [
            "Model: \"sequential\"\n",
            "_________________________________________________________________\n",
            "Layer (type)                 Output Shape              Param #   \n",
            "=================================================================\n",
            "conv1d (Conv1D)              (None, 496, 64)           6144      \n",
            "_________________________________________________________________\n",
            "max_pooling1d (MaxPooling1D) (None, 494, 64)           0         \n",
            "_________________________________________________________________\n",
            "dropout (Dropout)            (None, 494, 64)           0         \n",
            "_________________________________________________________________\n",
            "conv1d_1 (Conv1D)            (None, 490, 48)           15408     \n",
            "_________________________________________________________________\n",
            "max_pooling1d_1 (MaxPooling1 (None, 488, 48)           0         \n",
            "_________________________________________________________________\n",
            "dropout_1 (Dropout)          (None, 488, 48)           0         \n",
            "_________________________________________________________________\n",
            "conv1d_2 (Conv1D)            (None, 486, 24)           3480      \n",
            "_________________________________________________________________\n",
            "max_pooling1d_2 (MaxPooling1 (None, 484, 24)           0         \n",
            "_________________________________________________________________\n",
            "dropout_2 (Dropout)          (None, 484, 24)           0         \n",
            "_________________________________________________________________\n",
            "lstm (LSTM)                  (None, 484, 128)          78336     \n",
            "_________________________________________________________________\n",
            "lstm_1 (LSTM)                (None, 64)                49408     \n",
            "_________________________________________________________________\n",
            "dense (Dense)                (None, 2)                 130       \n",
            "_________________________________________________________________\n",
            "activation (Activation)      (None, 2)                 0         \n",
            "=================================================================\n",
            "Total params: 152,906\n",
            "Trainable params: 152,906\n",
            "Non-trainable params: 0\n",
            "_________________________________________________________________\n"
          ],
          "name": "stdout"
        }
      ]
    },
    {
      "cell_type": "code",
      "metadata": {
        "id": "UyH5H_wi_Kc4",
        "outputId": "c4bca310-b100-40f5-a5e6-8e41a7a4fd8e",
        "colab": {
          "base_uri": "https://localhost:8080/"
        }
      },
      "source": [
        "callbacks_list = [\n",
        "    keras.callbacks.ModelCheckpoint(\n",
        "        filepath='best_modellstmmulti.{epoch:02d}-{val_loss:.2f}.h5',\n",
        "        monitor='val_loss', save_best_only=True),\n",
        "    keras.callbacks.EarlyStopping(monitor='acc', patience=1)\n",
        "]\n",
        "\n",
        "modellstm.compile(loss='binary_crossentropy',\n",
        "                optimizer='adam', metrics=['acc'])\n",
        "\n",
        "BATCH_SIZE = 100\n",
        "EPOCHS = 50\n",
        "\n",
        "history = modellstm.fit(TrainingEC,\n",
        "                      TrainingEClabel,\n",
        "                      batch_size=BATCH_SIZE,\n",
        "                      epochs=EPOCHS,\n",
        "                      callbacks=callbacks_list,\n",
        "                      validation_split=0.2,\n",
        "                      verbose=1)"
      ],
      "execution_count": 8,
      "outputs": [
        {
          "output_type": "stream",
          "text": [
            "Epoch 1/50\n",
            "13/13 [==============================] - 3s 258ms/step - loss: 0.6456 - acc: 0.6476 - val_loss: 0.5799 - val_acc: 0.7261\n",
            "Epoch 2/50\n",
            "13/13 [==============================] - 2s 184ms/step - loss: 0.5392 - acc: 0.7494 - val_loss: 0.5434 - val_acc: 0.7426\n",
            "Epoch 3/50\n",
            "13/13 [==============================] - 2s 184ms/step - loss: 0.5111 - acc: 0.7601 - val_loss: 0.4914 - val_acc: 0.7723\n",
            "Epoch 4/50\n",
            "13/13 [==============================] - 2s 178ms/step - loss: 0.5388 - acc: 0.7320 - val_loss: 0.4966 - val_acc: 0.7855\n"
          ],
          "name": "stdout"
        }
      ]
    },
    {
      "cell_type": "code",
      "metadata": {
        "id": "G0OI22OZ_fJy",
        "outputId": "4a377339-9d06-4133-ec81-59c6248977b6",
        "colab": {
          "base_uri": "https://localhost:8080/",
          "height": 458
        }
      },
      "source": [
        "plt.figure(figsize=(7, 7))\n",
        "plt.plot(history.history['acc'], 'r', label='Accuracy of training data')\n",
        "plt.plot(history.history['val_acc'], 'b', label='Accuracy of validation data')\n",
        "plt.plot(history.history['loss'], 'r--', label='Loss of training data')\n",
        "plt.plot(history.history['val_loss'], 'b--', label='Loss of validation data')\n",
        "plt.title('Model Accuracy and Loss')\n",
        "plt.ylabel('Accuracy and Loss')\n",
        "plt.xlabel('Training Epoch')\n",
        "plt.ylim(0)\n",
        "plt.legend()\n",
        "plt.show()"
      ],
      "execution_count": 9,
      "outputs": [
        {
          "output_type": "display_data",
          "data": {
            "image/png": "[encoded data removed]",
            "text/plain": [
              "<Figure size 504x504 with 1 Axes>"
            ]
          },
          "metadata": {
            "tags": [],
            "needs_background": "light"
          }
        }
      ]
    },
    {
      "cell_type": "code",
      "metadata": {
        "id": "tRegShG-Atcj"
      },
      "source": [
        ""
      ],
      "execution_count": null,
      "outputs": []
    },
    {
      "cell_type": "code",
      "metadata": {
        "id": "2ZeIJ8zc_i43",
        "outputId": "b4493827-b7fe-4d0f-a8a7-3d33f78d09de",
        "colab": {
          "base_uri": "https://localhost:8080/"
        }
      },
      "source": [
        "#%accuracy on test data\n",
        "#y_testEC = np_utils.to_categorical(y_testEC,2)\n",
        "\n",
        "score = modellstm.evaluate(testingEC, testingEClabel, verbose=1)\n",
        "\n",
        "print('\\nAccuracy on test data: %0.2f' % score[1])\n",
        "print('\\nLoss on test data: %0.2f' % score[0])"
      ],
      "execution_count": 10,
      "outputs": [
        {
          "output_type": "stream",
          "text": [
            "12/12 [==============================] - 1s 67ms/step - loss: 0.5094 - acc: 0.7540\n",
            "\n",
            "Accuracy on test data: 0.75\n",
            "\n",
            "Loss on test data: 0.51\n"
          ],
          "name": "stdout"
        }
      ]
    },
    {
      "cell_type": "code",
      "metadata": {
        "id": "vvSHWSgS_l2w"
      },
      "source": [
        "LABELS = ['Control','MDD']\n",
        "def show_confusion_matrix(validations, predictions):\n",
        "\n",
        "    matrix = metrics.confusion_matrix(validations, predictions)\n",
        "    plt.figure(figsize=(2, 2))\n",
        "    sns.heatmap(matrix,\n",
        "                cmap='coolwarm',\n",
        "                linecolor='white',\n",
        "                linewidths=1,\n",
        "                xticklabels=LABELS,\n",
        "                yticklabels=LABELS,\n",
        "                annot=True,\n",
        "                fmt='d')\n",
        "    plt.title('Confusion Matrix')\n",
        "    plt.ylabel('True Label')\n",
        "    plt.xlabel('Predicted Label')\n",
        "    plt.show()"
      ],
      "execution_count": 12,
      "outputs": []
    },
    {
      "cell_type": "code",
      "metadata": {
        "id": "WtZjrwQ5_0vJ",
        "outputId": "11eb2e36-665f-4d9a-bc52-4e9588be8b72",
        "colab": {
          "base_uri": "https://localhost:8080/",
          "height": 338
        }
      },
      "source": [
        "y_pred_test = modellstm.predict(testingEC)\n",
        "# Take the class with the highest probability from the test predictions\n",
        "max_y_pred_test = np.argmax(y_pred_test, axis=1)\n",
        "max_y_test = np.argmax(testingEClabel, axis=1)\n",
        "\n",
        "show_confusion_matrix(max_y_test, max_y_pred_test)\n",
        "\n",
        "print(classification_report(max_y_test, max_y_pred_test))"
      ],
      "execution_count": 13,
      "outputs": [
        {
          "output_type": "display_data",
          "data": {
            "image/png": "[encoded data removed]",
            "text/plain": [
              "<Figure size 144x144 with 2 Axes>"
            ]
          },
          "metadata": {
            "tags": [],
            "needs_background": "light"
          }
        },
        {
          "output_type": "stream",
          "text": [
            "              precision    recall  f1-score   support\n",
            "\n",
            "           0       0.69      0.95      0.80       198\n",
            "           1       0.91      0.54      0.68       180\n",
            "\n",
            "    accuracy                           0.75       378\n",
            "   macro avg       0.80      0.74      0.74       378\n",
            "weighted avg       0.80      0.75      0.74       378\n",
            "\n"
          ],
          "name": "stdout"
        }
      ]
    },
    {
      "cell_type": "code",
      "metadata": {
        "id": "Twi8xxjq_853",
        "outputId": "6078a6bf-ed8e-4f12-a204-52387d464542",
        "colab": {
          "base_uri": "https://localhost:8080/"
        }
      },
      "source": [
        "# 1DCNN+GRU model\n",
        "temporal_dimension = TrainingEC.shape[1]\n",
        "num_channels = TrainingEC.shape[2]\n",
        "num_classes = 2\n",
        "modelGRU = Sequential()\n",
        "modelGRU.add(Conv1D(64, 5, activation='elu', input_shape=(temporal_dimension,num_channels)))\n",
        "modelGRU.add(MaxPool1D(3,1,))\n",
        "modelGRU.add(Dropout(0.2))\n",
        "    # model.add(BatchNormalization())\n",
        "modelGRU.add(Conv1D(48, 5, activation='elu'))\n",
        "modelGRU.add(MaxPool1D(3,1,))\n",
        "modelGRU.add(Dropout(0.2))\n",
        "    # model.add(BatchNormalization())\n",
        "modelGRU.add(Conv1D(24, 3, activation='elu'))\n",
        "modelGRU.add(MaxPool1D(3,1,))\n",
        "modelGRU.add(Dropout(0.2))\n",
        "    # model.add(BatchNormalization())\n",
        "modelGRU.add(GRU(128, return_sequences=True))\n",
        "modelGRU.add(GRU(64)) #stacked recurrent layers said to enable deeper time series learningmodel.add(Dense(bdfData.info['nchan']))\n",
        "#model.compile(optimizer='rmsprop', loss='mse', metrics=['mse'])\n",
        "modelGRU.add(Dense(units=2))\n",
        "modelGRU.add(Activation('sigmoid'))\n",
        "modelGRU.summary()"
      ],
      "execution_count": 15,
      "outputs": [
        {
          "output_type": "stream",
          "text": [
            "Model: \"sequential_2\"\n",
            "_________________________________________________________________\n",
            "Layer (type)                 Output Shape              Param #   \n",
            "=================================================================\n",
            "conv1d_6 (Conv1D)            (None, 496, 64)           6144      \n",
            "_________________________________________________________________\n",
            "max_pooling1d_6 (MaxPooling1 (None, 494, 64)           0         \n",
            "_________________________________________________________________\n",
            "dropout_6 (Dropout)          (None, 494, 64)           0         \n",
            "_________________________________________________________________\n",
            "conv1d_7 (Conv1D)            (None, 490, 48)           15408     \n",
            "_________________________________________________________________\n",
            "max_pooling1d_7 (MaxPooling1 (None, 488, 48)           0         \n",
            "_________________________________________________________________\n",
            "dropout_7 (Dropout)          (None, 488, 48)           0         \n",
            "_________________________________________________________________\n",
            "conv1d_8 (Conv1D)            (None, 486, 24)           3480      \n",
            "_________________________________________________________________\n",
            "max_pooling1d_8 (MaxPooling1 (None, 484, 24)           0         \n",
            "_________________________________________________________________\n",
            "dropout_8 (Dropout)          (None, 484, 24)           0         \n",
            "_________________________________________________________________\n",
            "gru_2 (GRU)                  (None, 484, 128)          59136     \n",
            "_________________________________________________________________\n",
            "gru_3 (GRU)                  (None, 64)                37248     \n",
            "_________________________________________________________________\n",
            "dense_2 (Dense)              (None, 2)                 130       \n",
            "_________________________________________________________________\n",
            "activation_2 (Activation)    (None, 2)                 0         \n",
            "=================================================================\n",
            "Total params: 121,546\n",
            "Trainable params: 121,546\n",
            "Non-trainable params: 0\n",
            "_________________________________________________________________\n"
          ],
          "name": "stdout"
        }
      ]
    },
    {
      "cell_type": "code",
      "metadata": {
        "id": "zPBuSOhb_9Lw",
        "outputId": "6e6c91bc-63b5-49fe-b575-c12742b1796d",
        "colab": {
          "base_uri": "https://localhost:8080/"
        }
      },
      "source": [
        "callbacks_list = [\n",
        "    keras.callbacks.ModelCheckpoint(\n",
        "        filepath='best_modellstmmulti.{epoch:02d}-{val_loss:.2f}.h5',\n",
        "        monitor='val_loss', save_best_only=True),\n",
        "    keras.callbacks.EarlyStopping(monitor='acc', patience=1)\n",
        "]\n",
        "\n",
        "modelGRU.compile(loss='binary_crossentropy',\n",
        "                optimizer='adam', metrics=['acc'])\n",
        "\n",
        "BATCH_SIZE = 100\n",
        "EPOCHS = 50\n",
        "\n",
        "history = modelGRU.fit(TrainingEC,\n",
        "                      TrainingEClabel,\n",
        "                      batch_size=BATCH_SIZE,\n",
        "                      epochs=EPOCHS,\n",
        "                      callbacks=callbacks_list,\n",
        "                      validation_split=0.2,\n",
        "                      verbose=1)"
      ],
      "execution_count": 17,
      "outputs": [
        {
          "output_type": "stream",
          "text": [
            "Epoch 1/50\n",
            "13/13 [==============================] - 3s 233ms/step - loss: 0.6673 - acc: 0.5997 - val_loss: 0.6623 - val_acc: 0.6502\n",
            "Epoch 2/50\n",
            "13/13 [==============================] - 2s 171ms/step - loss: 0.6006 - acc: 0.6849 - val_loss: 0.6262 - val_acc: 0.6997\n",
            "Epoch 3/50\n",
            "13/13 [==============================] - 2s 170ms/step - loss: 0.5592 - acc: 0.7089 - val_loss: 0.5838 - val_acc: 0.7129\n",
            "Epoch 4/50\n",
            "13/13 [==============================] - 2s 172ms/step - loss: 0.5292 - acc: 0.7419 - val_loss: 0.5533 - val_acc: 0.7360\n",
            "Epoch 5/50\n",
            "13/13 [==============================] - 2s 172ms/step - loss: 0.5092 - acc: 0.7560 - val_loss: 0.5332 - val_acc: 0.7525\n",
            "Epoch 6/50\n",
            "13/13 [==============================] - 2s 171ms/step - loss: 0.4676 - acc: 0.7858 - val_loss: 0.5169 - val_acc: 0.7492\n",
            "Epoch 7/50\n",
            "13/13 [==============================] - 2s 170ms/step - loss: 0.4550 - acc: 0.7916 - val_loss: 0.5102 - val_acc: 0.7393\n",
            "Epoch 8/50\n",
            "13/13 [==============================] - 2s 164ms/step - loss: 0.3998 - acc: 0.8263 - val_loss: 0.6527 - val_acc: 0.7327\n",
            "Epoch 9/50\n",
            "13/13 [==============================] - 2s 171ms/step - loss: 0.3543 - acc: 0.8486 - val_loss: 0.4116 - val_acc: 0.8317\n",
            "Epoch 10/50\n",
            "13/13 [==============================] - 2s 171ms/step - loss: 0.3093 - acc: 0.8610 - val_loss: 0.3536 - val_acc: 0.8482\n",
            "Epoch 11/50\n",
            "13/13 [==============================] - 2s 165ms/step - loss: 0.2515 - acc: 0.9024 - val_loss: 0.7926 - val_acc: 0.6865\n",
            "Epoch 12/50\n",
            "13/13 [==============================] - 2s 164ms/step - loss: 0.3018 - acc: 0.8660 - val_loss: 0.6905 - val_acc: 0.7360\n"
          ],
          "name": "stdout"
        }
      ]
    },
    {
      "cell_type": "code",
      "metadata": {
        "id": "ajzAQrJhA1dK",
        "outputId": "dd9e17b8-da2c-4090-c78b-91e61c8c9ea1",
        "colab": {
          "base_uri": "https://localhost:8080/",
          "height": 458
        }
      },
      "source": [
        "plt.figure(figsize=(7, 7))\n",
        "plt.plot(history.history['acc'], 'r', label='Accuracy of training data')\n",
        "plt.plot(history.history['val_acc'], 'b', label='Accuracy of validation data')\n",
        "plt.plot(history.history['loss'], 'r--', label='Loss of training data')\n",
        "plt.plot(history.history['val_loss'], 'b--', label='Loss of validation data')\n",
        "plt.title('Model Accuracy and Loss')\n",
        "plt.ylabel('Accuracy and Loss')\n",
        "plt.xlabel('Training Epoch')\n",
        "plt.ylim(0)\n",
        "plt.legend()\n",
        "plt.show()"
      ],
      "execution_count": 18,
      "outputs": [
        {
          "output_type": "display_data",
          "data": {
            "image/png": "[encoded data removed]",
            "text/plain": [
              "<Figure size 504x504 with 1 Axes>"
            ]
          },
          "metadata": {
            "tags": [],
            "needs_background": "light"
          }
        }
      ]
    },
    {
      "cell_type": "code",
      "metadata": {
        "id": "z8OyslKYA2hR",
        "outputId": "5dff12cd-64d3-485c-b569-aeda3e65aafc",
        "colab": {
          "base_uri": "https://localhost:8080/"
        }
      },
      "source": [
        "#%accuracy on test data\n",
        "#y_testEC = np_utils.to_categorical(y_testEC,2)\n",
        "\n",
        "score = modelGRU.evaluate(testingEC, testingEClabel, verbose=1)\n",
        "\n",
        "print('\\nAccuracy on test data: %0.2f' % score[1])\n",
        "print('\\nLoss on test data: %0.2f' % score[0])"
      ],
      "execution_count": 19,
      "outputs": [
        {
          "output_type": "stream",
          "text": [
            "12/12 [==============================] - 1s 63ms/step - loss: 0.7842 - acc: 0.7143\n",
            "\n",
            "Accuracy on test data: 0.71\n",
            "\n",
            "Loss on test data: 0.78\n"
          ],
          "name": "stdout"
        }
      ]
    },
    {
      "cell_type": "code",
      "metadata": {
        "id": "uTfAwvX2A_m7",
        "outputId": "873ae266-4b55-40e6-9c95-db76f325d6de",
        "colab": {
          "base_uri": "https://localhost:8080/",
          "height": 338
        }
      },
      "source": [
        "y_pred_test = modelGRU.predict(testingEC)\n",
        "# Take the class with the highest probability from the test predictions\n",
        "max_y_pred_test = np.argmax(y_pred_test, axis=1)\n",
        "max_y_test = np.argmax(testingEClabel, axis=1)\n",
        "\n",
        "show_confusion_matrix(max_y_test, max_y_pred_test)\n",
        "\n",
        "print(classification_report(max_y_test, max_y_pred_test))"
      ],
      "execution_count": 20,
      "outputs": [
        {
          "output_type": "display_data",
          "data": {
            "image/png": "[encoded data removed]",
            "text/plain": [
              "<Figure size 144x144 with 2 Axes>"
            ]
          },
          "metadata": {
            "tags": [],
            "needs_background": "light"
          }
        },
        {
          "output_type": "stream",
          "text": [
            "              precision    recall  f1-score   support\n",
            "\n",
            "           0       0.65      1.00      0.79       198\n",
            "           1       1.00      0.40      0.57       180\n",
            "\n",
            "    accuracy                           0.71       378\n",
            "   macro avg       0.82      0.70      0.68       378\n",
            "weighted avg       0.82      0.71      0.68       378\n",
            "\n"
          ],
          "name": "stdout"
        }
      ]
    }
  ]
}