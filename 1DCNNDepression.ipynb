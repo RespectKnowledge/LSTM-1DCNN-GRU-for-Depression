{
  "nbformat": 4,
  "nbformat_minor": 0,
  "metadata": {
    "colab": {
      "name": "1DCNNDepression.ipynb",
      "provenance": []
    },
    "kernelspec": {
      "name": "python3",
      "display_name": "Python 3"
    },
    "accelerator": "GPU"
  },
  "cells": [
    {
      "cell_type": "code",
      "metadata": {
        "id": "097Atgow58eQ",
        "outputId": "c407914f-1ecb-4705-8079-dadec7b9aea5",
        "colab": {
          "base_uri": "https://localhost:8080/"
        }
      },
      "source": [
        "from google.colab import drive\n",
        "drive.mount('/content/drive')\n"
      ],
      "execution_count": 1,
      "outputs": [
        {
          "output_type": "stream",
          "text": [
            "Mounted at /content/drive\n"
          ],
          "name": "stdout"
        }
      ]
    },
    {
      "cell_type": "code",
      "metadata": {
        "id": "EynTo_UD6KpU",
        "outputId": "f05ca4fc-d3aa-4279-84eb-997fc12a3406",
        "colab": {
          "base_uri": "https://localhost:8080/"
        }
      },
      "source": [
        "cd /content/drive/My\\ Drive"
      ],
      "execution_count": 2,
      "outputs": [
        {
          "output_type": "stream",
          "text": [
            "/content/drive/My Drive\n"
          ],
          "name": "stdout"
        }
      ]
    },
    {
      "cell_type": "code",
      "metadata": {
        "id": "xXltEzSb6Yby",
        "outputId": "8eb18828-0b46-4479-87e0-592c6b64f6df",
        "colab": {
          "base_uri": "https://localhost:8080/"
        }
      },
      "source": [
        "ls"
      ],
      "execution_count": 3,
      "outputs": [
        {
          "output_type": "stream",
          "text": [
            " AQ_paper_V1.docx             'Untitled drawing (2).gdraw'\n",
            "\u001b[0m\u001b[01;34m'Colab Notebooks'\u001b[0m/            'Untitled drawing - Bar chart 1.gsheet'\n",
            " RNNmodel.zip                 'Untitled drawing - Column chart 2.gsheet'\n",
            " SegThor2019dataset.zip       'Untitled drawing.gdraw'\n",
            " train.zip                    'Video 1.zip'\n",
            "'Untitled drawing (1).gdraw'\n"
          ],
          "name": "stdout"
        }
      ]
    },
    {
      "cell_type": "code",
      "metadata": {
        "id": "3MxIzWyK68rz",
        "outputId": "34bef905-7075-4e17-fbc0-9f510bbd9047",
        "colab": {
          "base_uri": "https://localhost:8080/"
        }
      },
      "source": [
        "!unzip Depressiontraintestdataset.zip"
      ],
      "execution_count": 4,
      "outputs": [
        {
          "output_type": "stream",
          "text": [
            "Archive:  Depressiontraintestdataset.zip\n",
            "   creating: Depressiontraintestdataset/\n",
            "  inflating: Depressiontraintestdataset/TestingEC.npy  \n",
            "  inflating: Depressiontraintestdataset/TestingEO.npy  \n",
            "  inflating: Depressiontraintestdataset/TestinglabelsEC.npy  \n",
            "  inflating: Depressiontraintestdataset/TestinglabelsEO.npy  \n",
            "  inflating: Depressiontraintestdataset/TrainingEC.npy  \n",
            "  inflating: Depressiontraintestdataset/TrainingEO.npy  \n",
            "  inflating: Depressiontraintestdataset/TraininglabelsEC.npy  \n",
            "  inflating: Depressiontraintestdataset/TraininglabelsEO.npy  \n"
          ],
          "name": "stdout"
        }
      ]
    },
    {
      "cell_type": "code",
      "metadata": {
        "id": "RyuxjjuQ7J4r"
      },
      "source": [
        "import numpy as np\n",
        "TrainingEC=np.load('/content/drive/My Drive/Depressiontraintestdataset/TrainingEC.npy')\n",
        "TrainingEClabel=np.load('/content/drive/My Drive/Depressiontraintestdataset/TraininglabelsEC.npy')\n",
        "testingEC=np.load('/content/drive/My Drive/Depressiontraintestdataset/TestingEC.npy')\n",
        "testingEClabel=np.load('/content/drive/My Drive/Depressiontraintestdataset/TestinglabelsEC.npy')\n",
        "\n",
        "TrainingEO=np.load('/content/drive/My Drive/Depressiontraintestdataset/TrainingEO.npy')\n",
        "TrainingEOlabel=np.load('/content/drive/My Drive/Depressiontraintestdataset/TraininglabelsEO.npy')\n",
        "testingEO=np.load('/content/drive/My Drive/Depressiontraintestdataset/TestingEO.npy')\n",
        "testingEOlabel=np.load('/content/drive/My Drive/Depressiontraintestdataset/TestinglabelsEO.npy')\n",
        "\n"
      ],
      "execution_count": 5,
      "outputs": []
    },
    {
      "cell_type": "code",
      "metadata": {
        "id": "KcMAKYk18Il2",
        "outputId": "3e0e8ea6-c139-4dcd-f1e5-7ecd434f844c",
        "colab": {
          "base_uri": "https://localhost:8080/"
        }
      },
      "source": [
        "print(TrainingEC.shape)\n",
        "print(TrainingEClabel.shape)\n",
        "print(testingEC.shape)\n",
        "print(testingEClabel.shape)\n"
      ],
      "execution_count": 8,
      "outputs": [
        {
          "output_type": "stream",
          "text": [
            "(1512, 500, 19)\n",
            "(1512, 2)\n",
            "(378, 500, 19)\n",
            "(378, 2)\n"
          ],
          "name": "stdout"
        }
      ]
    },
    {
      "cell_type": "code",
      "metadata": {
        "id": "4PWUnIEp8gpu",
        "outputId": "d3de16e6-d218-4a5b-bdc9-a1839a2e4a50",
        "colab": {
          "base_uri": "https://localhost:8080/"
        }
      },
      "source": [
        "print(TrainingEO.shape)\n",
        "print(TrainingEOlabel.shape)\n",
        "print(testingEO.shape)\n",
        "print(testingEOlabel.shape)"
      ],
      "execution_count": 9,
      "outputs": [
        {
          "output_type": "stream",
          "text": [
            "(1512, 500, 19)\n",
            "(1512, 2)\n",
            "(378, 500, 19)\n",
            "(378, 2)\n"
          ],
          "name": "stdout"
        }
      ]
    },
    {
      "cell_type": "code",
      "metadata": {
        "id": "mAEBS3z68uak"
      },
      "source": [
        "# prepare dataset for 1DCNN model\n",
        "temporal_dimension = TrainingEC.shape[1]\n",
        "num_channels = TrainingEC.shape[2]"
      ],
      "execution_count": 10,
      "outputs": []
    },
    {
      "cell_type": "code",
      "metadata": {
        "id": "NimkiGBf87L8",
        "outputId": "50d2cd33-2f7c-4822-a286-12d62f7c482f",
        "colab": {
          "base_uri": "https://localhost:8080/"
        }
      },
      "source": [
        "print(temporal_dimension)"
      ],
      "execution_count": 12,
      "outputs": [
        {
          "output_type": "stream",
          "text": [
            "500\n"
          ],
          "name": "stdout"
        }
      ]
    },
    {
      "cell_type": "code",
      "metadata": {
        "id": "63nzPB_R9DJ1",
        "outputId": "e2ac9b65-3c37-439b-b793-0dd08dc2a853",
        "colab": {
          "base_uri": "https://localhost:8080/"
        }
      },
      "source": [
        "print(num_channels)"
      ],
      "execution_count": 13,
      "outputs": [
        {
          "output_type": "stream",
          "text": [
            "19\n"
          ],
          "name": "stdout"
        }
      ]
    },
    {
      "cell_type": "code",
      "metadata": {
        "id": "QHDrHsDE9TPD"
      },
      "source": [
        "# define or import basic layers from keras\n",
        "from keras.models import Sequential\n",
        "from keras.layers import Reshape, Conv1D, MaxPooling1D, GlobalAveragePooling1D, Dropout, Dense\n",
        "import os\n",
        "import scipy\n",
        "from scipy import io, signal\n",
        "import matplotlib.pyplot as plt\n",
        "import numpy as np\n",
        "import itertools\n",
        "import pywt\n",
        "from matplotlib import pyplot as plt\n",
        "#%matplotlib inline\n",
        "import numpy as np\n",
        "import pandas as pd\n",
        "import seaborn as sns\n",
        "#import coremltools\n",
        "from scipy import stats\n",
        "from IPython.display import display, HTML\n",
        "\n",
        "from sklearn import metrics\n",
        "from sklearn.metrics import classification_report\n",
        "from sklearn import preprocessing\n",
        "\n",
        "import keras\n",
        "from keras.models import Sequential\n",
        "from keras.layers import Dense, Dropout, Flatten, Reshape, Activation\n",
        "from keras.layers import Conv2D, MaxPooling2D\n",
        "from keras.utils import np_utils\n",
        "from keras.models import Sequential\n",
        "from keras.layers import Dense, Dropout\n",
        "from keras.layers import Embedding\n",
        "from keras.layers import LSTM\n",
        "from sklearn.preprocessing import MinMaxScaler"
      ],
      "execution_count": 14,
      "outputs": []
    },
    {
      "cell_type": "code",
      "metadata": {
        "id": "T3GRykgT9LKE"
      },
      "source": [
        "model1D = Sequential()\n",
        "model1D.add(Conv1D(50, 10, activation='relu', input_shape=(temporal_dimension, num_channels))) # 50 outputfeature maps, 10 kernel size\n",
        "#dir(model1D)"
      ],
      "execution_count": 20,
      "outputs": []
    },
    {
      "cell_type": "code",
      "metadata": {
        "id": "OaPOaupx9iSr"
      },
      "source": [
        "#model1D.summary()"
      ],
      "execution_count": 21,
      "outputs": []
    },
    {
      "cell_type": "code",
      "metadata": {
        "id": "0XeCw1Ik-SN2",
        "outputId": "dd3f4fd0-1cb9-4453-d984-91c20cdca4e4",
        "colab": {
          "base_uri": "https://localhost:8080/"
        }
      },
      "source": [
        "num_classes = 2\n",
        "############################# Define Network###########################33333\n",
        "model1D = Sequential()\n",
        "model1D.add(Conv1D(50, 10, activation='relu', input_shape=(temporal_dimension, num_channels)))\n",
        "model1D.add(Conv1D(50, 10, activation='relu'))\n",
        "model1D.add(MaxPooling1D(3))\n",
        "model1D.add(Conv1D(100, 10, activation='relu'))\n",
        "#model1D.add(Conv1D(160, 10, activation='relu'))\n",
        "model1D.add(MaxPooling1D(3))\n",
        "model1D.add(Conv1D(50, 20, activation='relu'))\n",
        "model1D.add(GlobalAveragePooling1D())\n",
        "#model.add(Dense(100, activation='relu'))\n",
        "model1D.add(Dropout(0.5))\n",
        "model1D.add(Dense(num_classes, activation='sigmoid'))\n",
        "print(model1D.summary())\n",
        "\n",
        "callbacks_list = [\n",
        "    keras.callbacks.ModelCheckpoint(\n",
        "        filepath='best_model1.{epoch:02d}-{val_loss:.2f}.h5',\n",
        "        monitor='val_loss', save_best_only=True),\n",
        "    keras.callbacks.EarlyStopping(monitor='acc', patience=1)\n",
        "]\n",
        "model1D.compile(loss='binary_crossentropy',\n",
        "                optimizer='adam', metrics=['acc'])\n",
        "\n",
        "BATCH_SIZE = 100\n",
        "EPOCHS = 100\n",
        "\n",
        "history = model1D.fit(TrainingEC,\n",
        "                      TrainingEClabel,\n",
        "                      batch_size=BATCH_SIZE,\n",
        "                      epochs=EPOCHS,\n",
        "                      callbacks=callbacks_list,\n",
        "                      validation_split=0.1,\n",
        "                      verbose=1)"
      ],
      "execution_count": 27,
      "outputs": [
        {
          "output_type": "stream",
          "text": [
            "Model: \"sequential_8\"\n",
            "_________________________________________________________________\n",
            "Layer (type)                 Output Shape              Param #   \n",
            "=================================================================\n",
            "conv1d_17 (Conv1D)           (None, 491, 50)           9550      \n",
            "_________________________________________________________________\n",
            "conv1d_18 (Conv1D)           (None, 482, 50)           25050     \n",
            "_________________________________________________________________\n",
            "max_pooling1d_6 (MaxPooling1 (None, 160, 50)           0         \n",
            "_________________________________________________________________\n",
            "conv1d_19 (Conv1D)           (None, 151, 100)          50100     \n",
            "_________________________________________________________________\n",
            "max_pooling1d_7 (MaxPooling1 (None, 50, 100)           0         \n",
            "_________________________________________________________________\n",
            "conv1d_20 (Conv1D)           (None, 31, 50)            100050    \n",
            "_________________________________________________________________\n",
            "global_average_pooling1d_3 ( (None, 50)                0         \n",
            "_________________________________________________________________\n",
            "dropout_3 (Dropout)          (None, 50)                0         \n",
            "_________________________________________________________________\n",
            "dense_3 (Dense)              (None, 2)                 102       \n",
            "=================================================================\n",
            "Total params: 184,852\n",
            "Trainable params: 184,852\n",
            "Non-trainable params: 0\n",
            "_________________________________________________________________\n",
            "None\n",
            "Epoch 1/100\n",
            "14/14 [==============================] - 0s 29ms/step - loss: 0.9457 - acc: 0.5176 - val_loss: 0.6798 - val_acc: 0.4539\n",
            "Epoch 2/100\n",
            "14/14 [==============================] - 0s 17ms/step - loss: 0.6600 - acc: 0.5493 - val_loss: 0.5914 - val_acc: 0.6645\n",
            "Epoch 3/100\n",
            "14/14 [==============================] - 0s 15ms/step - loss: 0.6188 - acc: 0.6949 - val_loss: 0.5405 - val_acc: 0.8421\n",
            "Epoch 4/100\n",
            "14/14 [==============================] - 0s 14ms/step - loss: 0.5601 - acc: 0.7125 - val_loss: 0.3976 - val_acc: 0.8553\n",
            "Epoch 5/100\n",
            "14/14 [==============================] - 0s 15ms/step - loss: 0.4667 - acc: 0.8007 - val_loss: 0.2815 - val_acc: 0.8816\n",
            "Epoch 6/100\n",
            "14/14 [==============================] - 0s 14ms/step - loss: 0.3769 - acc: 0.8485 - val_loss: 0.2238 - val_acc: 0.9079\n",
            "Epoch 7/100\n",
            "14/14 [==============================] - 0s 14ms/step - loss: 0.3128 - acc: 0.8794 - val_loss: 0.2064 - val_acc: 0.9342\n",
            "Epoch 8/100\n",
            "14/14 [==============================] - 0s 11ms/step - loss: 0.3046 - acc: 0.8809 - val_loss: 0.3091 - val_acc: 0.8487\n",
            "Epoch 9/100\n",
            "14/14 [==============================] - 0s 15ms/step - loss: 0.2991 - acc: 0.8875 - val_loss: 0.1604 - val_acc: 0.9276\n",
            "Epoch 10/100\n",
            "14/14 [==============================] - 0s 32ms/step - loss: 0.2100 - acc: 0.9228 - val_loss: 0.1460 - val_acc: 0.9276\n",
            "Epoch 11/100\n",
            "14/14 [==============================] - 0s 11ms/step - loss: 0.1908 - acc: 0.9287 - val_loss: 0.1973 - val_acc: 0.9342\n",
            "Epoch 12/100\n",
            "14/14 [==============================] - 0s 31ms/step - loss: 0.1777 - acc: 0.9360 - val_loss: 0.1256 - val_acc: 0.9342\n",
            "Epoch 13/100\n",
            "14/14 [==============================] - 0s 11ms/step - loss: 0.1410 - acc: 0.9522 - val_loss: 0.1302 - val_acc: 0.9474\n",
            "Epoch 14/100\n",
            "14/14 [==============================] - 0s 11ms/step - loss: 0.1164 - acc: 0.9551 - val_loss: 0.1286 - val_acc: 0.9605\n",
            "Epoch 15/100\n",
            "14/14 [==============================] - 0s 15ms/step - loss: 0.1598 - acc: 0.9390 - val_loss: 0.1235 - val_acc: 0.9342\n"
          ],
          "name": "stdout"
        }
      ]
    },
    {
      "cell_type": "code",
      "metadata": {
        "id": "C5ZKeVkn-XmM",
        "outputId": "4937ff20-388b-48e5-fa34-280bc7b57aaf",
        "colab": {
          "base_uri": "https://localhost:8080/",
          "height": 621
        }
      },
      "source": [
        "plt.figure(figsize=(10, 10))\n",
        "plt.plot(history.history['acc'], 'r', label='Accuracy of training data')\n",
        "plt.plot(history.history['val_acc'], 'b', label='Accuracy of validation data')\n",
        "plt.plot(history.history['loss'], 'r--', label='Loss of training data')\n",
        "plt.plot(history.history['val_loss'], 'b--', label='Loss of validation data')\n",
        "plt.title('Model Accuracy and Loss')\n",
        "plt.ylabel('Accuracy and Loss')\n",
        "plt.xlabel('Training Epoch')\n",
        "plt.ylim(0)\n",
        "plt.legend()\n",
        "plt.show()"
      ],
      "execution_count": 28,
      "outputs": [
        {
          "output_type": "display_data",
          "data": {
            "image/png": "[encoded data removed]",
            "text/plain": [
              "<Figure size 720x720 with 1 Axes>"
            ]
          },
          "metadata": {
            "tags": [],
            "needs_background": "light"
          }
        }
      ]
    },
    {
      "cell_type": "code",
      "metadata": {
        "id": "AIr1u0ca-p3E",
        "outputId": "c9eee18d-39c9-4cbc-a841-4058011b6caa",
        "colab": {
          "base_uri": "https://localhost:8080/"
        }
      },
      "source": [
        "# testing the model\n",
        "#print(testingEO.shape)\n",
        "#print(testingEOlabel.shape)\n",
        "score = model1D.evaluate(testingEO, testingEOlabel, verbose=1)\n",
        "\n",
        "print('\\nAccuracy on test data: %0.2f' % score[1])\n",
        "print('\\nLoss on test data: %0.2f' % score[0])"
      ],
      "execution_count": 29,
      "outputs": [
        {
          "output_type": "stream",
          "text": [
            "12/12 [==============================] - 0s 13ms/step - loss: 0.5193 - acc: 0.8624\n",
            "\n",
            "Accuracy on test data: 0.86\n",
            "\n",
            "Loss on test data: 0.52\n"
          ],
          "name": "stdout"
        }
      ]
    },
    {
      "cell_type": "code",
      "metadata": {
        "id": "4Yzv2jVlA01-"
      },
      "source": [
        "# confusion matrix\n",
        "LABELS = ['Control','MDD']\n",
        "def show_confusion_matrix(validations, predictions):\n",
        "\n",
        "    matrix = metrics.confusion_matrix(validations, predictions)\n",
        "    plt.figure(figsize=(2, 2))\n",
        "    sns.heatmap(matrix,\n",
        "                cmap='coolwarm',\n",
        "                linecolor='white',\n",
        "                linewidths=1,\n",
        "                xticklabels=LABELS,\n",
        "                yticklabels=LABELS,\n",
        "                annot=True,\n",
        "                fmt='d')\n",
        "    plt.title('Confusion Matrix')\n",
        "    plt.ylabel('True Label')\n",
        "    plt.xlabel('Predicted Label')\n",
        "    plt.show()"
      ],
      "execution_count": 37,
      "outputs": []
    },
    {
      "cell_type": "code",
      "metadata": {
        "id": "YJGJL3-P_23o",
        "outputId": "0cbacb42-3e92-4194-8bbe-c00c244d974c",
        "colab": {
          "base_uri": "https://localhost:8080/",
          "height": 355
        }
      },
      "source": [
        "# predcition on training set\n",
        "y_pred_train = model1D.predict(TrainingEC)\n",
        "print(y_pred_train.shape)\n",
        "#print(classification_report(TrainingEClabel, y_pred_train))\n",
        "max_y_pred_train = np.argmax(y_pred_train, axis=1)\n",
        "max_y_train = np.argmax(TrainingEClabel, axis=1)\n",
        "#print(max_y_pred_train.shape)\n",
        "#print(max_y_train.shape)\n",
        "show_confusion_matrix(max_y_train, max_y_pred_train)\n",
        "print(classification_report(max_y_train, max_y_pred_train))"
      ],
      "execution_count": 40,
      "outputs": [
        {
          "output_type": "stream",
          "text": [
            "(1512, 2)\n"
          ],
          "name": "stdout"
        },
        {
          "output_type": "display_data",
          "data": {
            "image/png": "[encoded data removed]",
            "text/plain": [
              "<Figure size 144x144 with 2 Axes>"
            ]
          },
          "metadata": {
            "tags": [],
            "needs_background": "light"
          }
        },
        {
          "output_type": "stream",
          "text": [
            "              precision    recall  f1-score   support\n",
            "\n",
            "           0       0.99      0.94      0.96       792\n",
            "           1       0.94      0.99      0.96       720\n",
            "\n",
            "    accuracy                           0.96      1512\n",
            "   macro avg       0.96      0.97      0.96      1512\n",
            "weighted avg       0.97      0.96      0.96      1512\n",
            "\n"
          ],
          "name": "stdout"
        }
      ]
    },
    {
      "cell_type": "code",
      "metadata": {
        "id": "yYb3gBEl_SWH",
        "outputId": "00010ad2-b840-425b-bb79-be9437fd2399",
        "colab": {
          "base_uri": "https://localhost:8080/",
          "height": 338
        }
      },
      "source": [
        "# prediciton on testing set\n",
        "y_pred_test = model1D.predict(testingEO)\n",
        "# Take the class with the highest probability from the test predictions\n",
        "max_y_pred_test = np.argmax(y_pred_test, axis=1)\n",
        "max_y_test = np.argmax(testingEOlabel, axis=1)\n",
        "\n",
        "show_confusion_matrix(max_y_test, max_y_pred_test)\n",
        "\n",
        "print(classification_report(max_y_test, max_y_pred_test))"
      ],
      "execution_count": 41,
      "outputs": [
        {
          "output_type": "display_data",
          "data": {
            "image/png": "[encoded data removed]",
            "text/plain": [
              "<Figure size 144x144 with 2 Axes>"
            ]
          },
          "metadata": {
            "tags": [],
            "needs_background": "light"
          }
        },
        {
          "output_type": "stream",
          "text": [
            "              precision    recall  f1-score   support\n",
            "\n",
            "           0       0.83      0.93      0.88       198\n",
            "           1       0.92      0.78      0.84       180\n",
            "\n",
            "    accuracy                           0.86       378\n",
            "   macro avg       0.87      0.86      0.86       378\n",
            "weighted avg       0.87      0.86      0.86       378\n",
            "\n"
          ],
          "name": "stdout"
        }
      ]
    }
  ]
}